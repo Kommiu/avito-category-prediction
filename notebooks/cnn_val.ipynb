{
 "cells": [
  {
   "cell_type": "code",
   "execution_count": 9,
   "metadata": {},
   "outputs": [],
   "source": [
    "import numpy as np\n",
    "import pandas as pd\n",
    "\n",
    "import sys\n",
    "sys.path.insert(0,'../')\n",
    "\n",
    "import torch\n",
    "import torch.nn as nn\n",
    "from torch.optim import Adam\n",
    "from torchtext import data\n",
    "from torchtext import vocab\n",
    "from torch.utils.tensorboard import SummaryWriter\n",
    "from pathlib import Path\n",
    "from sklearn.metrics import accuracy_score\n",
    "\n",
    "from params import SEED\n",
    "from models import CNN\n",
    "import training_utils as tu"
   ]
  },
  {
   "cell_type": "code",
   "execution_count": 2,
   "metadata": {},
   "outputs": [],
   "source": [
    "train = pd.read_json('../data/json/train.json', orient='records', lines=True)\n",
    "valid = pd.read_json('../data/json/valid.json', orient='records', lines=True)"
   ]
  },
  {
   "cell_type": "code",
   "execution_count": 3,
   "metadata": {},
   "outputs": [],
   "source": [
    "torch.manual_seed(SEED)\n",
    "torch.backends.cudnn.deterministic = True\n",
    "\n",
    "device = torch.device('cuda')\n",
    "torch.cuda.set_device(2)"
   ]
  },
  {
   "cell_type": "code",
   "execution_count": 16,
   "metadata": {},
   "outputs": [],
   "source": [
    "TEXT = data.Field(preprocessing=tu.make_padder(5))\n",
    "LABEL = data.LabelField()\n",
    "train_fields = {'category_id': ('label', LABEL), 'tokens': ('text', TEXT)}\n",
    "\n",
    "data_path = '../data/json'\n",
    "\n",
    "custom_embeddings = vocab.Vectors(name = '../embeddings/custom/custom.vec',\n",
    "                                  cache = '../embeddings',\n",
    "                                  unk_init = torch.Tensor.normal_)\n",
    "\n",
    "train_data = data.TabularDataset(\n",
    "    path=Path(data_path, f'train.json'),\n",
    "    format='json',\n",
    "    fields=train_fields,\n",
    ")\n",
    "\n",
    "ID = data.Field(sequential=False, use_vocab=False)\n",
    "test_fields = {'category_id': ('label', LABEL), 'item_id': ('id', ID), 'tokens': ('text', TEXT)}\n",
    "test_data = data.TabularDataset(\n",
    "    path=Path(data_path, f'valid.json'),\n",
    "    format='json',\n",
    "    fields=test_fields,\n",
    ")\n",
    "\n",
    "TEXT.build_vocab(train_data, vectors=custom_embeddings, unk_init=torch.Tensor.normal_)\n",
    "LABEL.build_vocab(train_data)"
   ]
  },
  {
   "cell_type": "code",
   "execution_count": 17,
   "metadata": {},
   "outputs": [],
   "source": [
    "model_path = '../trained_models/cnn_valid'\n",
    "n_epochs = 10\n",
    "batch_size = 64 \n",
    "\n",
    "input_dim = len(TEXT.vocab)\n",
    "output_dim = len(LABEL.vocab)\n",
    "embedding_dim = custom_embeddings.dim\n",
    "pad_idx = TEXT.vocab.stoi[TEXT.pad_token]\n",
    "\n",
    "n_filters = 3\n",
    "filter_sizes = [3, 4, 5]\n",
    "dropout = 0.5\n",
    "\n",
    "\n",
    "model = CNN(input_dim,\n",
    "            output_dim,\n",
    "            embedding_dim,\n",
    "            n_filters,\n",
    "            filter_sizes,\n",
    "            dropout,\n",
    "            pad_idx)"
   ]
  },
  {
   "cell_type": "code",
   "execution_count": 18,
   "metadata": {},
   "outputs": [],
   "source": [
    "embeddings = TEXT.vocab.vectors\n",
    "model.embedding.weight.data.copy_(embeddings)\n",
    "model.embedding.weight.data[pad_idx] = torch.zeros(embedding_dim)"
   ]
  },
  {
   "cell_type": "code",
   "execution_count": 19,
   "metadata": {},
   "outputs": [],
   "source": [
    "train_iterator = data.BucketIterator(train_data,\n",
    "                                     batch_size=batch_size,\n",
    "                                     sort_key=lambda ex:len(ex.text),\n",
    "                                     sort_within_batch=True,\n",
    "                                     device=device\n",
    "                                    )\n",
    "\n",
    "test_iterator = data.BucketIterator(test_data,\n",
    "                                     batch_size=batch_size,\n",
    "                                     sort_key=lambda ex:len(ex.text),\n",
    "                                     sort_within_batch=True,\n",
    "                                     device=device\n",
    "                                    )"
   ]
  },
  {
   "cell_type": "code",
   "execution_count": 20,
   "metadata": {},
   "outputs": [],
   "source": [
    "optimizer = Adam(model.parameters())\n",
    "critertion = nn.CrossEntropyLoss().to(device)\n",
    "model = model.to(device)"
   ]
  },
  {
   "cell_type": "code",
   "execution_count": 21,
   "metadata": {},
   "outputs": [],
   "source": [
    "writer = SummaryWriter('../runs/final_valid')"
   ]
  },
  {
   "cell_type": "code",
   "execution_count": 22,
   "metadata": {},
   "outputs": [],
   "source": [
    "best, final = tu.train_model(model,\n",
    "            train_iterator,\n",
    "            test_iterator,\n",
    "            optimizer,\n",
    "            critertion,\n",
    "            model_path,\n",
    "            n_epochs,\n",
    "            '_',\n",
    "            writer)"
   ]
  },
  {
   "cell_type": "code",
   "execution_count": 23,
   "metadata": {},
   "outputs": [
    {
     "data": {
      "text/plain": [
       "(0.76730664489316, 0.7632659313725491)"
      ]
     },
     "execution_count": 23,
     "metadata": {},
     "output_type": "execute_result"
    }
   ],
   "source": [
    "best, final"
   ]
  },
  {
   "cell_type": "code",
   "execution_count": 20,
   "metadata": {},
   "outputs": [
    {
     "data": {
      "text/plain": [
       "IncompatibleKeys(missing_keys=[], unexpected_keys=[])"
      ]
     },
     "execution_count": 20,
     "metadata": {},
     "output_type": "execute_result"
    }
   ],
   "source": [
    "model.load_state_dict(torch.load(model_path))"
   ]
  },
  {
   "cell_type": "code",
   "execution_count": null,
   "metadata": {},
   "outputs": [],
   "source": []
  }
 ],
 "metadata": {
  "kernelspec": {
   "display_name": "Python 3",
   "language": "python",
   "name": "python3"
  },
  "language_info": {
   "codemirror_mode": {
    "name": "ipython",
    "version": 3
   },
   "file_extension": ".py",
   "mimetype": "text/x-python",
   "name": "python",
   "nbconvert_exporter": "python",
   "pygments_lexer": "ipython3",
   "version": "3.6.5"
  }
 },
 "nbformat": 4,
 "nbformat_minor": 2
}
