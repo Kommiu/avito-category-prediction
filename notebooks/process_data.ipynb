{
 "cells": [
  {
   "cell_type": "markdown",
   "metadata": {},
   "source": [
    "Чтобы не проводить препроцессинг данных для каждого экспериминта, сделаем это один раз и сохраним результаты на диск."
   ]
  },
  {
   "cell_type": "code",
   "execution_count": 7,
   "metadata": {},
   "outputs": [],
   "source": [
    "import sys\n",
    "sys.path.insert(0, '../')\n",
    "\n",
    "\n",
    "import pandas as pd\n",
    "import numpy as np\n",
    "\n",
    "import seaborn as sns\n",
    "import matplotlib.pyplot as plt\n",
    "\n",
    "from sklearn.model_selection import train_test_split\n",
    "from sklearn.model_selection import StratifiedKFold\n",
    "\n",
    "from params import SEED, N_SPLITS\n",
    "%matplotlib inline"
   ]
  },
  {
   "cell_type": "code",
   "execution_count": 8,
   "metadata": {},
   "outputs": [],
   "source": [
    "test_raw = pd.read_csv('../data/test.csv')\n",
    "dev_raw = pd.read_csv('../data/train.csv')\n",
    "categories = pd.read_csv('../data/category.csv')"
   ]
  },
  {
   "cell_type": "code",
   "execution_count": 9,
   "metadata": {},
   "outputs": [
    {
     "data": {
      "text/html": [
       "<div>\n",
       "<style scoped>\n",
       "    .dataframe tbody tr th:only-of-type {\n",
       "        vertical-align: middle;\n",
       "    }\n",
       "\n",
       "    .dataframe tbody tr th {\n",
       "        vertical-align: top;\n",
       "    }\n",
       "\n",
       "    .dataframe thead th {\n",
       "        text-align: right;\n",
       "    }\n",
       "</style>\n",
       "<table border=\"1\" class=\"dataframe\">\n",
       "  <thead>\n",
       "    <tr style=\"text-align: right;\">\n",
       "      <th></th>\n",
       "      <th>item_id</th>\n",
       "      <th>title</th>\n",
       "      <th>description</th>\n",
       "      <th>price</th>\n",
       "      <th>category_id</th>\n",
       "    </tr>\n",
       "  </thead>\n",
       "  <tbody>\n",
       "    <tr>\n",
       "      <th>0</th>\n",
       "      <td>0</td>\n",
       "      <td>Картина</td>\n",
       "      <td>Гобелен. Размеры 139х84см.</td>\n",
       "      <td>1000.0</td>\n",
       "      <td>19</td>\n",
       "    </tr>\n",
       "    <tr>\n",
       "      <th>1</th>\n",
       "      <td>1</td>\n",
       "      <td>Стулья из прессованной кожи</td>\n",
       "      <td>Продам недорого 4 стула из светлой прессованно...</td>\n",
       "      <td>1250.0</td>\n",
       "      <td>22</td>\n",
       "    </tr>\n",
       "    <tr>\n",
       "      <th>2</th>\n",
       "      <td>2</td>\n",
       "      <td>Домашняя мини баня</td>\n",
       "      <td>Мини баня МБ-1(мини сауна), предназначена для ...</td>\n",
       "      <td>13000.0</td>\n",
       "      <td>37</td>\n",
       "    </tr>\n",
       "    <tr>\n",
       "      <th>3</th>\n",
       "      <td>3</td>\n",
       "      <td>Эксклюзивная коллекция книг \"Трансаэро\" + подарок</td>\n",
       "      <td>Продам эксклюзивную коллекцию книг, выпущенную...</td>\n",
       "      <td>4000.0</td>\n",
       "      <td>43</td>\n",
       "    </tr>\n",
       "    <tr>\n",
       "      <th>4</th>\n",
       "      <td>4</td>\n",
       "      <td>Ноутбук aser</td>\n",
       "      <td>Продаётся ноутбук ACER e5-511C2TA. Куплен в ко...</td>\n",
       "      <td>19000.0</td>\n",
       "      <td>1</td>\n",
       "    </tr>\n",
       "  </tbody>\n",
       "</table>\n",
       "</div>"
      ],
      "text/plain": [
       "   item_id                                              title  \\\n",
       "0        0                                            Картина   \n",
       "1        1                        Стулья из прессованной кожи   \n",
       "2        2                                 Домашняя мини баня   \n",
       "3        3  Эксклюзивная коллекция книг \"Трансаэро\" + подарок   \n",
       "4        4                                       Ноутбук aser   \n",
       "\n",
       "                                         description    price  category_id  \n",
       "0                         Гобелен. Размеры 139х84см.   1000.0           19  \n",
       "1  Продам недорого 4 стула из светлой прессованно...   1250.0           22  \n",
       "2  Мини баня МБ-1(мини сауна), предназначена для ...  13000.0           37  \n",
       "3  Продам эксклюзивную коллекцию книг, выпущенную...   4000.0           43  \n",
       "4  Продаётся ноутбук ACER e5-511C2TA. Куплен в ко...  19000.0            1  "
      ]
     },
     "execution_count": 9,
     "metadata": {},
     "output_type": "execute_result"
    }
   ],
   "source": [
    "dev_raw.head()"
   ]
  },
  {
   "cell_type": "code",
   "execution_count": 10,
   "metadata": {},
   "outputs": [
    {
     "name": "stdout",
     "output_type": "stream",
     "text": [
      "Число разных категорий:  54\n"
     ]
    }
   ],
   "source": [
    "n_categories = len(dev_raw['category_id'].unique())\n",
    "print('Число разных категорий: ', n_categories)"
   ]
  },
  {
   "cell_type": "markdown",
   "metadata": {},
   "source": [
    "Посмотрим на распередление объявлений по разным категориям  и убедимся что классы достаточно сбалансированы."
   ]
  },
  {
   "cell_type": "code",
   "execution_count": 11,
   "metadata": {},
   "outputs": [
    {
     "data": {
      "text/plain": [
       "<matplotlib.axes._subplots.AxesSubplot at 0x7f3b4a254a58>"
      ]
     },
     "execution_count": 11,
     "metadata": {},
     "output_type": "execute_result"
    },
    {
     "data": {
      "image/png": "[encoded data removed]",
      "text/plain": [
       "<Figure size 432x288 with 1 Axes>"
      ]
     },
     "metadata": {
      "needs_background": "light"
     },
     "output_type": "display_data"
    }
   ],
   "source": [
    "dev_raw['category_id'].hist(bins=n_categories)"
   ]
  },
  {
   "cell_type": "code",
   "execution_count": 12,
   "metadata": {},
   "outputs": [
    {
     "name": "stderr",
     "output_type": "stream",
     "text": [
      "[nltk_data] Downloading package stopwords to /home/user/nltk_data...\n",
      "[nltk_data]   Package stopwords is already up-to-date!\n"
     ]
    }
   ],
   "source": [
    "from nltk.tokenize import RegexpTokenizer\n",
    "tokenizer = RegexpTokenizer(r'[^\\W_]+')\n",
    "\n",
    "import nltk\n",
    "nltk.download('stopwords')\n",
    "from nltk.corpus import stopwords\n",
    "russian_stopwords = stopwords.words(\"russian\")\n",
    "\n",
    "\n",
    "from pymystem3 import Mystem\n",
    "stemmer = Mystem()"
   ]
  },
  {
   "cell_type": "code",
   "execution_count": 13,
   "metadata": {},
   "outputs": [],
   "source": [
    "# приведем слова к нормальной форме используя pymystem3, чтобы уменьшить размер итогового словаря\n",
    "def lemmatize(words):\n",
    "    return [stemmer.lemmatize(word)[0] for word in words]\n",
    "\n",
    "# уберем длинные(полупроизвольно выбрал значение в 4 символа, поскольку 3 могут встречаться \n",
    "# в валидных аббревиатурах, например, СССР)\n",
    "# повторения буквенных(цифры оставим) символов\n",
    "\n",
    "import re\n",
    "expr = re.compile(r'([^\\W_0-9])\\1{4,}')\n",
    "def remove_long_seqs(text):\n",
    "    return re.sub(expr, r'\\1', text)\n",
    "\n",
    "def prepare_data(df):\n",
    "    df = df.copy()\n",
    "    # объеденим название и описание в один текст\n",
    "    df['text'] = df['title'].str.cat(df['description'], ' ')\n",
    "    df['text'] = df['text'].apply(remove_long_seqs)\n",
    "    # разобьем текст на токены, оставляя только буквы и цифры\n",
    "    df['tokens'] = df['text'].str.lower().apply(lambda text: tokenizer.tokenize(text))\n",
    "    # лемматизируем полученную последовательность токенов\n",
    "    df['lemmatized'] = df['tokens'].apply(lemmatize)\n",
    "    return df.drop(['title', 'description'], axis=1)"
   ]
  },
  {
   "cell_type": "markdown",
   "metadata": {},
   "source": [
    "У меня была гипотеза о том, что упоминание в тексте объявления слов может быть полезной фичей. Поэтому для каждой категории я создаю новую фичу, равную метрике Жакарда между текстом объявления и названием категории(после удаления стоп слов). Такое преобразование не использует информации об остальных примерах, поэтому мы можем применить его сразу для всех датасетов, не волнуясь об утечке."
   ]
  },
  {
   "cell_type": "code",
   "execution_count": 14,
   "metadata": {},
   "outputs": [],
   "source": [
    "\n",
    "cat_words = categories.name.str.replace('|',' ').str.lower().str.split(' ').apply(lemmatize)\n",
    "cat_words = cat_words.apply(set).apply(lambda x: x.difference(russian_stopwords))\n",
    "\n",
    "def jaccard(x):\n",
    "    return [len(cat_words[i].intersection(x))/len(cat_words[i].union(x)) for i in cat_words.index]\n",
    "\n",
    "\n",
    "def compute_jaccard(data):\n",
    "\n",
    "    words = data['lemmatized'].apply(lambda x: set(x).difference(russian_stopwords))\n",
    "\n",
    "    j = words.apply(jaccard)\n",
    "    df = pd.DataFrame(j.values.tolist(), columns=[f'cat_{i}' for i in cat_words.index])\n",
    "    return  df\n",
    "\n",
    "\n",
    "\n",
    "# я планировал использовать fastText, поэтому сразу определил функции позволяющие сохранять данные в формате\n",
    "# удобном для работы с ним\n",
    "def write_ft_train(path, data, column, label):\n",
    "    with  open(path, 'w') as f:\n",
    "            for idx, cat, lst, in data[[ 'category_id', column]].itertuples():\n",
    "                text = ' '.join(lst)\n",
    "                f.write(f'__label__{cat} {text}\\n')\n",
    "\n",
    "def write_ft_test(path, data, column, label=None):\n",
    "    \n",
    "    data[column].str.join(' ').to_csv(path, index=False)\n",
    "    if label is not None:\n",
    "        data[label].to_csv(path + '.label')"
   ]
  },
  {
   "cell_type": "code",
   "execution_count": null,
   "metadata": {},
   "outputs": [],
   "source": [
    "dev = prepare_data(dev_raw)\n",
    "test = prepare_data(test_raw)"
   ]
  },
  {
   "cell_type": "code",
   "execution_count": null,
   "metadata": {},
   "outputs": [],
   "source": [
    "dev = pd.concat([dev, compute_jaccard(dev)], axis=1)\n",
    "test = pd.concat([test, compute_jaccard(test)], axis=1)"
   ]
  },
  {
   "cell_type": "code",
   "execution_count": null,
   "metadata": {},
   "outputs": [],
   "source": [
    "# для работы с torchtext удобнее хранить однородные данные в одном списке, нежели в разных столбцах\n",
    "dev['jacs'] = dev[[x for x in dev.columns if 'cat_' in x]].values.tolist()\n",
    "test['jacs'] = test[[x for x in dev.columns if 'cat_' in x]].values.tolist()"
   ]
  },
  {
   "cell_type": "code",
   "execution_count": null,
   "metadata": {},
   "outputs": [],
   "source": [
    "# разобьем данную обучающую выборку, на новую обучающую и валидационную\n",
    "train, valid = train_test_split(dev, test_size = 0.2, random_state=SEED, stratify=dev['category_id'])"
   ]
  },
  {
   "cell_type": "code",
   "execution_count": null,
   "metadata": {},
   "outputs": [],
   "source": [
    "dev.to_json('../data/json/dev.json', orient='records', lines=True)\n",
    "train.to_json('../data/json/train.json', orient='records', lines=True)\n",
    "valid.to_json('../data/json/valid.json', orient='records', lines=True)\n",
    "test.to_json('../data/json/test.json', orient='records', lines=True)"
   ]
  },
  {
   "cell_type": "code",
   "execution_count": 20,
   "metadata": {},
   "outputs": [],
   "source": [
    "# для работы с torchtext и fastText удобнее заранее разбить тренировочную выборку на фолды\n",
    "# и сохранить их в соответсвующие файлы\n",
    "\n",
    "skf = StratifiedKFold(n_splits=N_SPLITS, random_state=SEED)\n",
    "for fold, (train_idx, test_idx) in enumerate(skf.split(train, train['category_id'])):\n",
    "    train_fold = train.loc[train_idx]\n",
    "    test_fold = train.loc[test_idx]\n",
    "    \n",
    "    train_fold.to_json(f'../data/json/kfolds/train_{fold}.json', orient='records', lines=True)\n",
    "    test_fold.to_json(f'../data/json/kfolds/test_{fold}.json', orient='records', lines=True)\n",
    "    \n",
    "    write_ft_train(f'../data/ft/lemmatized/kfolds/train_{fold}.txt', train_fold, 'lemmatized', label='category_id')\n",
    "    write_ft_test(f'../data/ft/lemmatized/kfolds/test_{fold}.txt', test_fold, 'lemmatized', label='category_id')\n",
    "    \n",
    "    write_ft_train(f'../data/ft/tokens/kfolds/train_{fold}.txt', train_fold, 'tokens', label='category_id')\n",
    "    write_ft_test(f'../data/ft/tokens/kfolds/test_{fold}.txt', test_fold, 'tokens', label='category_id')"
   ]
  },
  {
   "cell_type": "code",
   "execution_count": 21,
   "metadata": {},
   "outputs": [],
   "source": [
    "write_ft_train(f'../data/ft/lemmatized/train.txt', dev, 'lemmatized', label='category_id')\n",
    "write_ft_test(f'../data/ft/lemmatized/test.txt', test, 'lemmatized')\n",
    "\n",
    "write_ft_train(f'../data/ft/lemmatized/train.txt', train, 'lemmatized', label='category_id')\n",
    "write_ft_test(f'../data/ft/lemmatized/train.txt', valid, 'lemmatized',  label='category_id')"
   ]
  },
  {
   "cell_type": "code",
   "execution_count": 22,
   "metadata": {},
   "outputs": [],
   "source": [
    "write_ft_train(f'../data/ft/tokens/train.txt', dev, 'tokens',  label='category_id')\n",
    "write_ft_test(f'../data/ft/tokens/test.txt', test, 'tokens')\n",
    "\n",
    "write_ft_train(f'../data/ft/tokens/train.txt', train, 'tokens', label='category_id')\n",
    "write_ft_test(f'../data/ft/tokens/train.txt', valid, 'tokens', label='category_id')"
   ]
  },
  {
   "cell_type": "code",
   "execution_count": null,
   "metadata": {},
   "outputs": [],
   "source": []
  }
 ],
 "metadata": {
  "kernelspec": {
   "display_name": "Python 3",
   "language": "python",
   "name": "python3"
  },
  "language_info": {
   "codemirror_mode": {
    "name": "ipython",
    "version": 3
   },
   "file_extension": ".py",
   "mimetype": "text/x-python",
   "name": "python",
   "nbconvert_exporter": "python",
   "pygments_lexer": "ipython3",
   "version": "3.6.5"
  }
 },
 "nbformat": 4,
 "nbformat_minor": 2
}
