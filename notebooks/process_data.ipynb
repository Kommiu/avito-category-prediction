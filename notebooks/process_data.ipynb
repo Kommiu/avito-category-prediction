{
 "cells": [
  {
   "cell_type": "code",
   "execution_count": 1,
   "metadata": {},
   "outputs": [],
   "source": [
    "import pandas as pd\n",
    "import numpy as np\n",
    "import seaborn as sns\n",
    "import matplotlib.pyplot as plt\n",
    "from sklearn.model_selection import train_test_split\n",
    "from sklearn.model_selection import StratifiedKFold\n",
    "%matplotlib inline"
   ]
  },
  {
   "cell_type": "code",
   "execution_count": 2,
   "metadata": {},
   "outputs": [],
   "source": [
    "from nltk.tokenize import RegexpTokenizer\n",
    "tokenizer = RegexpTokenizer(r'[^\\W_]+')\n",
    "\n",
    "SEED = 1984\n",
    "N_SPLITS = 5"
   ]
  },
  {
   "cell_type": "code",
   "execution_count": 3,
   "metadata": {},
   "outputs": [],
   "source": [
    "test_raw = pd.read_csv('data/test.csv')\n",
    "dev_raw = pd.read_csv('data/train.csv')\n",
    "categories = pd.read_csv('data/category.csv')"
   ]
  },
  {
   "cell_type": "code",
   "execution_count": 4,
   "metadata": {},
   "outputs": [
    {
     "data": {
      "text/html": [
       "<div>\n",
       "<style scoped>\n",
       "    .dataframe tbody tr th:only-of-type {\n",
       "        vertical-align: middle;\n",
       "    }\n",
       "\n",
       "    .dataframe tbody tr th {\n",
       "        vertical-align: top;\n",
       "    }\n",
       "\n",
       "    .dataframe thead th {\n",
       "        text-align: right;\n",
       "    }\n",
       "</style>\n",
       "<table border=\"1\" class=\"dataframe\">\n",
       "  <thead>\n",
       "    <tr style=\"text-align: right;\">\n",
       "      <th></th>\n",
       "      <th>item_id</th>\n",
       "      <th>title</th>\n",
       "      <th>description</th>\n",
       "      <th>price</th>\n",
       "      <th>category_id</th>\n",
       "    </tr>\n",
       "  </thead>\n",
       "  <tbody>\n",
       "    <tr>\n",
       "      <th>0</th>\n",
       "      <td>0</td>\n",
       "      <td>Картина</td>\n",
       "      <td>Гобелен. Размеры 139х84см.</td>\n",
       "      <td>1000.0</td>\n",
       "      <td>19</td>\n",
       "    </tr>\n",
       "    <tr>\n",
       "      <th>1</th>\n",
       "      <td>1</td>\n",
       "      <td>Стулья из прессованной кожи</td>\n",
       "      <td>Продам недорого 4 стула из светлой прессованно...</td>\n",
       "      <td>1250.0</td>\n",
       "      <td>22</td>\n",
       "    </tr>\n",
       "    <tr>\n",
       "      <th>2</th>\n",
       "      <td>2</td>\n",
       "      <td>Домашняя мини баня</td>\n",
       "      <td>Мини баня МБ-1(мини сауна), предназначена для ...</td>\n",
       "      <td>13000.0</td>\n",
       "      <td>37</td>\n",
       "    </tr>\n",
       "    <tr>\n",
       "      <th>3</th>\n",
       "      <td>3</td>\n",
       "      <td>Эксклюзивная коллекция книг \"Трансаэро\" + подарок</td>\n",
       "      <td>Продам эксклюзивную коллекцию книг, выпущенную...</td>\n",
       "      <td>4000.0</td>\n",
       "      <td>43</td>\n",
       "    </tr>\n",
       "    <tr>\n",
       "      <th>4</th>\n",
       "      <td>4</td>\n",
       "      <td>Ноутбук aser</td>\n",
       "      <td>Продаётся ноутбук ACER e5-511C2TA. Куплен в ко...</td>\n",
       "      <td>19000.0</td>\n",
       "      <td>1</td>\n",
       "    </tr>\n",
       "  </tbody>\n",
       "</table>\n",
       "</div>"
      ],
      "text/plain": [
       "   item_id                                              title  \\\n",
       "0        0                                            Картина   \n",
       "1        1                        Стулья из прессованной кожи   \n",
       "2        2                                 Домашняя мини баня   \n",
       "3        3  Эксклюзивная коллекция книг \"Трансаэро\" + подарок   \n",
       "4        4                                       Ноутбук aser   \n",
       "\n",
       "                                         description    price  category_id  \n",
       "0                         Гобелен. Размеры 139х84см.   1000.0           19  \n",
       "1  Продам недорого 4 стула из светлой прессованно...   1250.0           22  \n",
       "2  Мини баня МБ-1(мини сауна), предназначена для ...  13000.0           37  \n",
       "3  Продам эксклюзивную коллекцию книг, выпущенную...   4000.0           43  \n",
       "4  Продаётся ноутбук ACER e5-511C2TA. Куплен в ко...  19000.0            1  "
      ]
     },
     "execution_count": 4,
     "metadata": {},
     "output_type": "execute_result"
    }
   ],
   "source": [
    "dev_raw.head()"
   ]
  },
  {
   "cell_type": "code",
   "execution_count": 5,
   "metadata": {},
   "outputs": [
    {
     "data": {
      "text/plain": [
       "<matplotlib.axes._subplots.AxesSubplot at 0x7fbbaa5e5278>"
      ]
     },
     "execution_count": 5,
     "metadata": {},
     "output_type": "execute_result"
    },
    {
     "data": {
      "image/png": "[encoded data removed]",
      "text/plain": [
       "<Figure size 432x288 with 1 Axes>"
      ]
     },
     "metadata": {
      "needs_background": "light"
     },
     "output_type": "display_data"
    }
   ],
   "source": [
    "dev_raw['category_id'].hist()"
   ]
  },
  {
   "cell_type": "code",
   "execution_count": 6,
   "metadata": {},
   "outputs": [],
   "source": [
    "from pymystem3 import Mystem\n",
    "stemmer = Mystem()\n",
    "\n",
    "def lemmatize(words):\n",
    "    return [stemmer.lemmatize(word)[0] for word in words]\n",
    "\n",
    "def prepare_data(df):\n",
    "    df = df.copy()\n",
    "    df['text'] = df['title'].str.cat(df['description'], ' ')\n",
    "    df['tokens'] = df['text'].str.lower().apply(lambda text: tokenizer.tokenize(text))\n",
    "    df['lemmatized'] = df['tokens'].apply(lemmatize)\n",
    "    return df.drop(['title', 'description'],axis=1)"
   ]
  },
  {
   "cell_type": "code",
   "execution_count": 7,
   "metadata": {},
   "outputs": [],
   "source": [
    "from nltk.corpus import stopwords\n",
    "russian_stopwords = stopwords.words(\"russian\")\n",
    "\n",
    "cat_words = categories.name.str.replace('|',' ').str.lower().str.split(' ').apply(lemmatize)\n",
    "cat_words = cat_words.apply(set).apply(lambda x:x.difference(russian_stopwords))\n",
    "\n",
    "def jaccard(x):\n",
    "    return [len(cat_words[i].intersection(x))/len(cat_words[i].union(x)) for i in cat_words.index]\n",
    "\n",
    "\n",
    "def compute_jaccard(data):\n",
    "\n",
    "    words = data['lemmatized'].apply(lambda x: set(x).difference(russian_stopwords))\n",
    "\n",
    "    j = words.apply(jaccard)\n",
    "    df = pd.DataFrame(j.values.tolist(), columns=[f'cat_{i}' for i in cat_words.index])\n",
    "    return  df"
   ]
  },
  {
   "cell_type": "code",
   "execution_count": 8,
   "metadata": {},
   "outputs": [],
   "source": [
    "def write_for_fasttext(data, column, path, label=None):\n",
    "    if label is not None:\n",
    "        with  open(path, 'w') as f:\n",
    "            for idx, cat, lst, in data[[ 'category_id', column]].itertuples():\n",
    "                text = ' '.join(lst)\n",
    "                f.write(f'__label__{cat} {text}\\n')\n",
    "    else:\n",
    "        data[column].str.join(' ').to_csv(path, index=False)"
   ]
  },
  {
   "cell_type": "code",
   "execution_count": 9,
   "metadata": {},
   "outputs": [],
   "source": [
    "dev = prepare_data(dev_raw)\n",
    "test = prepare_data(test_raw)"
   ]
  },
  {
   "cell_type": "code",
   "execution_count": 10,
   "metadata": {},
   "outputs": [],
   "source": [
    "dev = pd.concat([dev, compute_jaccard(dev)], axis=1)\n",
    "test = pd.concat([test, compute_jaccard(test)], axis=1)"
   ]
  },
  {
   "cell_type": "code",
   "execution_count": 11,
   "metadata": {},
   "outputs": [],
   "source": [
    "train, valid = train_test_split(dev, test_size = 0.2, random_state=SEED, stratify=dev['category_id'])"
   ]
  },
  {
   "cell_type": "code",
   "execution_count": 12,
   "metadata": {},
   "outputs": [],
   "source": [
    "dev.to_json('data/json/dev.json', orient='records', lines=True)\n",
    "train.to_json('data/json/train.json', orient='records', lines=True)\n",
    "valid.to_json('data/json/valid.json', orient='records', lines=True)\n",
    "test.to_json('data/json/test.json', orient='records', lines=True)"
   ]
  },
  {
   "cell_type": "code",
   "execution_count": 16,
   "metadata": {},
   "outputs": [],
   "source": [
    "skf = StratifiedKFold(n_splits=N_SPLITS, random_state=SEED)\n",
    "for fold, (train_idx, test_idx) in enumerate(skf.split(train, train['category_id'])):\n",
    "    train_fold = dev.loc[train_idx]\n",
    "    test_fold = dev.loc[test_idx]\n",
    "    train_fold.to_json(f'data/json/train_{fold}.json', orient='records', lines=True)\n",
    "    test_fold.to_json(f'data/json/train_{fold}.json', orient='records', lines=True)\n",
    "    \n",
    "    write_for_fasttext(train_fold, 'lemmatized', f'./data/ft/lemmatized/train_{fold}.txt', label='category_id')\n",
    "    write_for_fasttext(test_fold, 'lemmatized', f'./data/ft/lemmatized/test_{fold}.txt', label='category_id')\n",
    "    \n",
    "    write_for_fasttext(train_fold, 'tokens', f'./data/ft/tokens/train_{fold}.txt', label='category_id')\n",
    "    write_for_fasttext(test_fold, 'tokens', f'./data/ft/tokens/test_{fold}.txt', label='category_id')"
   ]
  },
  {
   "cell_type": "code",
   "execution_count": 17,
   "metadata": {},
   "outputs": [],
   "source": [
    "write_for_fasttext(train, 'lemmatized', './data/ft/lemmatized/train.txt', label='category_id')\n",
    "write_for_fasttext(valid, 'lemmatized', './data/ft/lemmatized/valid.txt', label='category_id')\n",
    "write_for_fasttext(dev, 'lemmatized', './data/ft/lemmatized/dev.txt', label='category_id')"
   ]
  },
  {
   "cell_type": "code",
   "execution_count": 18,
   "metadata": {},
   "outputs": [],
   "source": [
    "write_for_fasttext(train, 'tokens', './data/ft/tokens/train.txt', label='category_id')\n",
    "write_for_fasttext(valid, 'tokens', './data/ft/tokens/valid.txt', label='category_id')\n",
    "write_for_fasttext(dev, 'tokens', './data/ft/tokens/dev.txt', label='category_id')"
   ]
  },
  {
   "cell_type": "code",
   "execution_count": null,
   "metadata": {},
   "outputs": [],
   "source": []
  }
 ],
 "metadata": {
  "kernelspec": {
   "display_name": "Python 3",
   "language": "python",
   "name": "python3"
  },
  "language_info": {
   "codemirror_mode": {
    "name": "ipython",
    "version": 3
   },
   "file_extension": ".py",
   "mimetype": "text/x-python",
   "name": "python",
   "nbconvert_exporter": "python",
   "pygments_lexer": "ipython3",
   "version": "3.6.5"
  }
 },
 "nbformat": 4,
 "nbformat_minor": 2
}
