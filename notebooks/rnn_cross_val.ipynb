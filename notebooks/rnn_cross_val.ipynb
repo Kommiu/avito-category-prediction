{
 "cells": [
  {
   "cell_type": "code",
   "execution_count": 1,
   "metadata": {},
   "outputs": [],
   "source": [
    "import numpy as np\n",
    "\n",
    "import torch\n",
    "import torch.nn as nn\n",
    "from torch.optim import Adam \n",
    "from torchtext import data, vocab\n",
    "from torch.utils.tensorboard import SummaryWriter\n",
    "\n",
    "from importlib import reload\n",
    "\n",
    "import sys\n",
    "sys.path.insert(0, '../')\n",
    "import training_utils as tu\n",
    "import models\n",
    "\n",
    "from params import SEED, N_SPLITS\n"
   ]
  },
  {
   "cell_type": "code",
   "execution_count": 2,
   "metadata": {},
   "outputs": [],
   "source": [
    "torch.manual_seed(SEED)\n",
    "torch.backends.cudnn.deterministic = True\n",
    "\n",
    "device = torch.device('cuda')\n",
    "torch.cuda.set_device(1)"
   ]
  },
  {
   "cell_type": "code",
   "execution_count": 3,
   "metadata": {},
   "outputs": [
    {
     "name": "stderr",
     "output_type": "stream",
     "text": [
      "  0%|          | 0/97568 [00:00<?, ?it/s]Skipping token b'97568' with 1-dimensional vector [b'300']; likely a header\n",
      "100%|█████████▉| 97313/97568 [00:40<00:00, 3746.89it/s]"
     ]
    }
   ],
   "source": [
    "custom_embeddings = vocab.Vectors(name = '../embeddings/custom/custom.vec',\n",
    "                                  cache = '../embeddings',\n",
    "                                  unk_init = torch.Tensor.normal_)"
   ]
  },
  {
   "cell_type": "code",
   "execution_count": 4,
   "metadata": {},
   "outputs": [],
   "source": [
    "NUMS = data.Field(use_vocab=False,dtype=torch.float)"
   ]
  },
  {
   "cell_type": "code",
   "execution_count": null,
   "metadata": {},
   "outputs": [],
   "source": []
  },
  {
   "cell_type": "code",
   "execution_count": 9,
   "metadata": {},
   "outputs": [],
   "source": [
    "model_kwargs = {\n",
    "    'embedding_dim': custom_embeddings.dim,\n",
    "    'hidden_dim': 100,\n",
    "    'n_layers': 2,\n",
    "    'bidirectional': True,\n",
    "    'mlp_sizes' : [54, 100],\n",
    "    'dropout': 0.5,\n",
    "    \n",
    "}\n",
    "\n",
    "\n",
    "model_path = '../trained_models/rnn/my_embs'\n",
    "data_path = '../data/json/kfolds/'\n",
    "vocab_kwargs = {\n",
    "    'unk_init': torch.Tensor.normal_\n",
    "}\n",
    "label_field = 'category_id'\n",
    "text_field = 'tokens'\n",
    "other_fields = {'jacs': ('nums', NUMS)}\n",
    "\n",
    "process_text = {\n",
    "    'include_lengths': True,\n",
    "}\n",
    "process_labels = {\n",
    "    \n",
    "}\n",
    "optimizer_kwargs = {\n",
    "    \n",
    "}\n",
    "criterion = nn.CrossEntropyLoss()\n",
    "batch_size = 128\n",
    "n_epochs = 10\n",
    "\n",
    "writer_path = f'../runs/rnn_my_embs_jacs'\n",
    "writer = SummaryWriter(writer_path)"
   ]
  },
  {
   "cell_type": "code",
   "execution_count": 10,
   "metadata": {},
   "outputs": [],
   "source": [
    "reload(tu)\n",
    "reload(models)\n",
    "from models import RNN_plus_MLP as RNN\n",
    "\n",
    "best_1, final_1 = tu.cross_val_score(RNN, model_kwargs, model_path,\n",
    "                   custom_embeddings, vocab_kwargs,\n",
    "                   data_path,\n",
    "                   label_field,text_field, other_fields,\n",
    "                   process_text, process_labels,\n",
    "                   Adam, optimizer_kwargs, criterion,\n",
    "                   batch_size, n_epochs, writer, device\n",
    "                  )"
   ]
  },
  {
   "cell_type": "code",
   "execution_count": null,
   "metadata": {},
   "outputs": [],
   "source": [
    "model_kwargs = {\n",
    "    'embedding_dim': custom_embeddings.dim,\n",
    "    'hidden_dim': 100,\n",
    "    'n_layers': 2,\n",
    "    'bidirectional': True,\n",
    "    'dropout': 0.5,\n",
    "    \n",
    "}\n",
    "\n",
    "\n",
    "model_path = '../trained_models/rnn/pretrained_embs'\n",
    "data_path = '../data/json/kfolds/'\n",
    "vocab_kwargs = {\n",
    "    'unk_init': torch.Tensor.normal_\n",
    "}\n",
    "label_field = 'category_id'\n",
    "text_field = 'lemmatized'\n",
    "other_fields = {}\n",
    "\n",
    "process_text = {\n",
    "    'stop_words': russian_stopwords,\n",
    "    'include_lengths': True,\n",
    "}\n",
    "process_labels = {\n",
    "    \n",
    "}\n",
    "optimizer_kwargs = {\n",
    "    \n",
    "}\n",
    "criterion = nn.CrossEntropyLoss()\n",
    "batch_size = 64\n",
    "n_epochs = 8\n",
    "\n",
    "writer_path = f'../runs/rnn_pretrained_embs'\n",
    "writer = SummaryWriter(writer_path)\n",
    "\n",
    "reload(tu)\n",
    "reload(models)\n",
    "from models import RNN as RNN\n",
    "\n",
    "best_2, final_2 = tu.cross_val_score(RNN, model_kwargs, model_path,\n",
    "                   custom_embeddings, vocab_kwargs,\n",
    "                   data_path,\n",
    "                   label_field,text_field, other_fields,\n",
    "                   process_text, process_labels,\n",
    "                   Adam, optimizer_kwargs, criterion,\n",
    "                   batch_size, n_epochs, writer, device\n",
    "                  )"
   ]
  },
  {
   "cell_type": "code",
   "execution_count": null,
   "metadata": {},
   "outputs": [],
   "source": [
    "model_kwargs = {\n",
    "    'embedding_dim': 200,\n",
    "    'hidden_dim': 100,\n",
    "    'n_layers': 2,\n",
    "    'bidirectional': True,\n",
    "    'dropout': 0.5,\n",
    "    \n",
    "}\n",
    "\n",
    "\n",
    "model_path = '../trained_models/rnn/vanila'\n",
    "data_path = '../data/json/kfolds/'\n",
    "vocab_kwargs = {\n",
    "    #'unk_init': torch.Tensor.normal_\n",
    "}\n",
    "label_field = 'category_id'\n",
    "text_field = 'lemmatized'\n",
    "other_fields = {}\n",
    "\n",
    "process_text = {\n",
    "    'stop_words': russian_stopwords,\n",
    "    'include_lengths': True,\n",
    "}\n",
    "process_labels = {\n",
    "    \n",
    "}\n",
    "optimizer_kwargs = {\n",
    "    \n",
    "}\n",
    "criterion = nn.CrossEntropyLoss()\n",
    "batch_size = 64\n",
    "n_epochs = 8\n",
    "\n",
    "writer_path = f'../runs/rnn_vanila'\n",
    "writer = SummaryWriter(writer_path)\n",
    "\n",
    "reload(tu)\n",
    "reload(models)\n",
    "from models import RNN as RNN\n",
    "\n",
    "best_3, final_3 = tu.cross_val_score(RNN, model_kwargs, model_path,\n",
    "                   None, vocab_kwargs,\n",
    "                   data_path,\n",
    "                   label_field,text_field, other_fields,\n",
    "                   process_text, process_labels,\n",
    "                   Adam, optimizer_kwargs, criterion,\n",
    "                   batch_size, n_epochs, writer, device\n",
    "                  )"
   ]
  },
  {
   "cell_type": "code",
   "execution_count": 11,
   "metadata": {},
   "outputs": [
    {
     "data": {
      "text/plain": [
       "[0.8894652324632952,\n",
       " 0.8924999108501509,\n",
       " 0.8867909121357538,\n",
       " 0.8911381487558091,\n",
       " 0.8914828430982976]"
      ]
     },
     "execution_count": 11,
     "metadata": {},
     "output_type": "execute_result"
    }
   ],
   "source": [
    "best_1.mean()"
   ]
  },
  {
   "cell_type": "code",
   "execution_count": null,
   "metadata": {},
   "outputs": [],
   "source": [
    "np.mean(best_1), np.mean(best_2), np.mean(best_3)"
   ]
  },
  {
   "cell_type": "code",
   "execution_count": null,
   "metadata": {},
   "outputs": [],
   "source": [
    "np.mean(final_1), np.mean(final_2), np.mean(final_3)"
   ]
  }
 ],
 "metadata": {
  "kernelspec": {
   "display_name": "Python 3",
   "language": "python",
   "name": "python3"
  },
  "language_info": {
   "codemirror_mode": {
    "name": "ipython",
    "version": 3
   },
   "file_extension": ".py",
   "mimetype": "text/x-python",
   "name": "python",
   "nbconvert_exporter": "python",
   "pygments_lexer": "ipython3",
   "version": "3.6.5"
  }
 },
 "nbformat": 4,
 "nbformat_minor": 2
}
