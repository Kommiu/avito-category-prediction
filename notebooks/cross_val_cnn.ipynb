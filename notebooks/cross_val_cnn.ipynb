{
 "cells": [
  {
   "cell_type": "code",
   "execution_count": 1,
   "metadata": {},
   "outputs": [],
   "source": [
    "import sys\n",
    "sys.path.insert(0, '../')"
   ]
  },
  {
   "cell_type": "code",
   "execution_count": 2,
   "metadata": {},
   "outputs": [],
   "source": [
    "import torch\n",
    "import torch.nn as nn\n",
    "import torch.nn.functional as F\n",
    "from torchtext import data\n",
    "import time\n",
    "from pathlib import Path\n",
    "\n",
    "from importlib import reload\n",
    "import models\n",
    "import training_utils as tu\n",
    "\n",
    "from params import SEED\n",
    "from torch.utils.tensorboard import SummaryWriter\n"
   ]
  },
  {
   "cell_type": "code",
   "execution_count": 3,
   "metadata": {},
   "outputs": [],
   "source": [
    "torch.manual_seed(SEED)\n",
    "torch.backends.cudnn.deterministic = True\n",
    "\n",
    "device = torch.device('cuda' if torch.cuda.is_available() else 'cpu')\n",
    "torch.cuda.set_device(1)"
   ]
  },
  {
   "cell_type": "code",
   "execution_count": 4,
   "metadata": {},
   "outputs": [],
   "source": [
    "from torchtext import vocab"
   ]
  },
  {
   "cell_type": "code",
   "execution_count": 5,
   "metadata": {},
   "outputs": [],
   "source": [
    "custom_embeddings = vocab.Vectors(name = '../embeddings/ft_native_300_ru_wiki_lenta_lemmatize.vec',\n",
    "                                  cache = '../embeddings',\n",
    "                                  unk_init = torch.Tensor.normal_)"
   ]
  },
  {
   "cell_type": "code",
   "execution_count": 7,
   "metadata": {},
   "outputs": [],
   "source": [
    "from nltk.corpus import stopwords\n",
    "russian_stopwords = stopwords.words(\"russian\")"
   ]
  },
  {
   "cell_type": "code",
   "execution_count": 11,
   "metadata": {},
   "outputs": [],
   "source": [
    "from torch.optim import Adam"
   ]
  },
  {
   "cell_type": "code",
   "execution_count": null,
   "metadata": {},
   "outputs": [],
   "source": []
  },
  {
   "cell_type": "code",
   "execution_count": 42,
   "metadata": {},
   "outputs": [],
   "source": [
    "model_kwargs = {'embedding_dim': custom_embeddings.dim, 'n_filters': 100, 'filter_sizes': [2,3,4], 'dropout': 0.5}\n",
    "model_name = 'CNN_custom_embs'\n",
    "data_path = '../data/json/kfolds/'\n",
    "vocab_kwargs = {}\n",
    "label_field = 'category_id'\n",
    "text_field = 'lemmatized'\n",
    "other_fields = {}\n",
    "process_text = {}\n",
    "process_labels = {}\n",
    "optimizer_kwargs = {}\n",
    "criterion = nn.CrossEntropyLoss()\n",
    "batch_size = 64\n",
    "n_epochs = 15\n",
    "writer_path = f'../runs/{model_name}'\n",
    "if Path(writer_path).exists():\n",
    "    Path(writer_path).rmdir\n",
    "writer = SummaryWriter(writer_path)"
   ]
  },
  {
   "cell_type": "code",
   "execution_count": null,
   "metadata": {},
   "outputs": [
    {
     "name": "stdout",
     "output_type": "stream",
     "text": [
      "\n",
      "Fold-0:\n",
      "Vocab size: 260449\n",
      "Number of classes: 54\n",
      "\tTraining now...\n",
      "\tEpoch: 1 | Epoch Time: 4m 17:s \n",
      "\tEpoch: 2 | Epoch Time: 4m 21:s \n",
      "\tEpoch: 3 | Epoch Time: 4m 21:s \n",
      "\tEpoch: 4 | Epoch Time: 4m 20:s \n",
      "\tEpoch: 5 | Epoch Time: 4m 21:s \n",
      "\tEpoch: 6 | Epoch Time: 4m 20:s \n",
      "\tEpoch: 7 | Epoch Time: 4m 20:s \n",
      "\tEpoch: 8 | Epoch Time: 4m 20:s \n",
      "\tEpoch: 9 | Epoch Time: 4m 20:s \n",
      "\tEpoch: 10 | Epoch Time: 4m 20:s \n",
      "\tEpoch: 11 | Epoch Time: 4m 20:s \n",
      "\tEpoch: 12 | Epoch Time: 4m 21:s \n",
      "\tEpoch: 13 | Epoch Time: 4m 21:s \n",
      "\tEpoch: 14 | Epoch Time: 4m 21:s \n",
      "\tEpoch: 15 | Epoch Time: 4m 21:s \n",
      "\n",
      "Fold-1:\n",
      "Vocab size: 260157\n",
      "Number of classes: 54\n",
      "\tTraining now...\n",
      "\tEpoch: 1 | Epoch Time: 4m 23:s \n",
      "\tEpoch: 2 | Epoch Time: 4m 26:s \n",
      "\tEpoch: 3 | Epoch Time: 4m 23:s \n",
      "\tEpoch: 4 | Epoch Time: 4m 23:s \n",
      "\tEpoch: 5 | Epoch Time: 4m 22:s \n",
      "\tEpoch: 6 | Epoch Time: 4m 25:s \n"
     ]
    }
   ],
   "source": [
    "reload(tu)\n",
    "reload(models)\n",
    "from models import CNN\n",
    "\n",
    "tu.cross_val_score(CNN, model_kwargs, model_name,\n",
    "                   custom_embeddings, vocab_kwargs,\n",
    "                   data_path,\n",
    "                   label_field,text_field, other_fields,\n",
    "                   process_text, process_labels,\n",
    "                   Adam, optimizer_kwargs, criterion,\n",
    "                   batch_size, n_epochs, writer, device\n",
    "                  )"
   ]
  },
  {
   "cell_type": "code",
   "execution_count": null,
   "metadata": {},
   "outputs": [],
   "source": [
    "from tor"
   ]
  }
 ],
 "metadata": {
  "kernelspec": {
   "display_name": "Python 3",
   "language": "python",
   "name": "python3"
  },
  "language_info": {
   "codemirror_mode": {
    "name": "ipython",
    "version": 3
   },
   "file_extension": ".py",
   "mimetype": "text/x-python",
   "name": "python",
   "nbconvert_exporter": "python",
   "pygments_lexer": "ipython3",
   "version": "3.6.5"
  }
 },
 "nbformat": 4,
 "nbformat_minor": 2
}
