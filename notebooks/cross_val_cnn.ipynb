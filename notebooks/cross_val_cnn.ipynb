{
 "cells": [
  {
   "cell_type": "code",
   "execution_count": 1,
   "metadata": {},
   "outputs": [],
   "source": [
    "import sys\n",
    "sys.path.insert(0, '../')"
   ]
  },
  {
   "cell_type": "code",
   "execution_count": 2,
   "metadata": {},
   "outputs": [],
   "source": [
    "import numpy as np\n",
    "\n",
    "import torch\n",
    "import torch.nn as nn\n",
    "from torch.optim import Adam \n",
    "from torchtext import data, vocab\n",
    "from torch.utils.tensorboard import SummaryWriter\n",
    "\n",
    "from importlib import reload\n",
    "\n",
    "import sys\n",
    "sys.path.insert(0, '../')\n",
    "import training_utils as tu\n",
    "import models\n",
    "\n",
    "from params import SEED, N_SPLITS\n"
   ]
  },
  {
   "cell_type": "code",
   "execution_count": 3,
   "metadata": {},
   "outputs": [],
   "source": [
    "torch.manual_seed(SEED)\n",
    "torch.backends.cudnn.deterministic = True\n",
    "\n",
    "device = torch.device('cuda' if torch.cuda.is_available() else 'cpu')\n",
    "torch.cuda.set_device(1)"
   ]
  },
  {
   "cell_type": "code",
   "execution_count": 4,
   "metadata": {},
   "outputs": [],
   "source": [
    "from torchtext import vocab"
   ]
  },
  {
   "cell_type": "code",
   "execution_count": 5,
   "metadata": {},
   "outputs": [],
   "source": [
    "custom_embeddings = vocab.Vectors(name = '../embeddings/ft_native_300_ru_wiki_lenta_lemmatize.vec',\n",
    "                                  cache = '../embeddings',\n",
    "                                  unk_init = torch.Tensor.normal_)"
   ]
  },
  {
   "cell_type": "code",
   "execution_count": null,
   "metadata": {},
   "outputs": [],
   "source": [
    "NUMS = data.Field(use_vocab=False,dtype=torch.float)"
   ]
  },
  {
   "cell_type": "code",
   "execution_count": 42,
   "metadata": {},
   "outputs": [],
   "source": [
    "model_kwargs = {\n",
    "    'embedding_dim': custom_embeddings.dim,\n",
    "    'hidden_dim': 100,\n",
    "    'n_filters': 100,\n",
    "    'filter_sizes': [3,4,5],\n",
    "    'linear_sizes' : [54, 100],\n",
    "    'dropout': 0.5,\n",
    "    \n",
    "}\n",
    "\n",
    "\n",
    "model_path = '../trained_models/cnn/pretrained_embs_jacs'\n",
    "data_path = '../data/json/kfolds/'\n",
    "vocab_kwargs = {\n",
    "    'unk_init': torch.Tensor.normal_\n",
    "}\n",
    "label_field = 'category_id'\n",
    "text_field = 'tokens'\n",
    "other_fields = {'jacs': ('nums', NUMS)}\n",
    "\n",
    "process_text = {\n",
    "    'include_lengths': True,\n",
    "}\n",
    "process_labels = {\n",
    "    \n",
    "}\n",
    "optimizer_kwargs = {\n",
    "    \n",
    "}\n",
    "criterion = nn.CrossEntropyLoss()\n",
    "batch_size = 64\n",
    "n_epochs = 10\n",
    "\n",
    "writer_path = f'../runs/cnn_pretrained_embs_jacs'\n",
    "writer = SummaryWriter(writer_path)"
   ]
  },
  {
   "cell_type": "code",
   "execution_count": null,
   "metadata": {},
   "outputs": [
    {
     "name": "stdout",
     "output_type": "stream",
     "text": [
      "\n",
      "Fold-0:\n",
      "Vocab size: 260449\n",
      "Number of classes: 54\n",
      "\tTraining now...\n",
      "\tEpoch: 1 | Epoch Time: 4m 17:s \n",
      "\tEpoch: 2 | Epoch Time: 4m 21:s \n",
      "\tEpoch: 3 | Epoch Time: 4m 21:s \n",
      "\tEpoch: 4 | Epoch Time: 4m 20:s \n",
      "\tEpoch: 5 | Epoch Time: 4m 21:s \n",
      "\tEpoch: 6 | Epoch Time: 4m 20:s \n",
      "\tEpoch: 7 | Epoch Time: 4m 20:s \n",
      "\tEpoch: 8 | Epoch Time: 4m 20:s \n",
      "\tEpoch: 9 | Epoch Time: 4m 20:s \n",
      "\tEpoch: 10 | Epoch Time: 4m 20:s \n",
      "\tEpoch: 11 | Epoch Time: 4m 20:s \n",
      "\tEpoch: 12 | Epoch Time: 4m 21:s \n",
      "\tEpoch: 13 | Epoch Time: 4m 21:s \n",
      "\tEpoch: 14 | Epoch Time: 4m 21:s \n",
      "\tEpoch: 15 | Epoch Time: 4m 21:s \n",
      "\n",
      "Fold-1:\n",
      "Vocab size: 260157\n",
      "Number of classes: 54\n",
      "\tTraining now...\n",
      "\tEpoch: 1 | Epoch Time: 4m 23:s \n",
      "\tEpoch: 2 | Epoch Time: 4m 26:s \n",
      "\tEpoch: 3 | Epoch Time: 4m 23:s \n",
      "\tEpoch: 4 | Epoch Time: 4m 23:s \n",
      "\tEpoch: 5 | Epoch Time: 4m 22:s \n",
      "\tEpoch: 6 | Epoch Time: 4m 25:s \n"
     ]
    }
   ],
   "source": [
    "reload(tu)\n",
    "reload(models)\n",
    "from models import CNN_plus_MLP as CNN\n",
    "\n",
    "best_1, final_1 = tu.cross_val_score(RNN, model_kwargs, model_path,\n",
    "                   custom_embeddings, vocab_kwargs,\n",
    "                   data_path,\n",
    "                   label_field,text_field, other_fields,\n",
    "                   process_text, process_labels,\n",
    "                   Adam, optimizer_kwargs, criterion,\n",
    "                   batch_size, n_epochs, writer, device\n",
    "                  )"
   ]
  },
  {
   "cell_type": "code",
   "execution_count": null,
   "metadata": {},
   "outputs": [],
   "source": [
    "model_kwargs = {\n",
    "    'embedding_dim': custom_embeddings.dim,\n",
    "    'hidden_dim': 100,\n",
    "    'n_filters': 100,\n",
    "    'filter_sizes': [3,4,5],\n",
    "    'linear_sizes' : [54, 100],\n",
    "    'dropout': 0.5,\n",
    "    \n",
    "}\n",
    "\n",
    "\n",
    "model_path = '../trained_models/cnn/pretrained_embs'\n",
    "data_path = '../data/json/kfolds/'\n",
    "vocab_kwargs = {\n",
    "    'unk_init': torch.Tensor.normal_\n",
    "}\n",
    "label_field = 'category_id'\n",
    "text_field = 'tokens'\n",
    "other_fields = {}\n",
    "\n",
    "process_text = {\n",
    "    'include_lengths': True,\n",
    "}\n",
    "process_labels = {\n",
    "    \n",
    "}\n",
    "optimizer_kwargs = {\n",
    "    \n",
    "}\n",
    "criterion = nn.CrossEntropyLoss()\n",
    "batch_size = 64\n",
    "n_epochs = 10\n",
    "\n",
    "writer_path = f'../runs/cnn_pretrained_embs'\n",
    "writer = SummaryWriter(writer_path)\n",
    "\n",
    "from models import CNN as CNN\n",
    "\n",
    "best_2, final_2 = tu.cross_val_score(CNN, model_kwargs, model_path,\n",
    "                   custom_embeddings, vocab_kwargs,\n",
    "                   data_path,\n",
    "                   label_field,text_field, other_fields,\n",
    "                   process_text, process_labels,\n",
    "                   Adam, optimizer_kwargs, criterion,\n",
    "                   batch_size, n_epochs, writer, device\n",
    "                  )"
   ]
  },
  {
   "cell_type": "code",
   "execution_count": null,
   "metadata": {},
   "outputs": [],
   "source": [
    "model_kwargs = {\n",
    "    'embedding_dim': custom_embeddings.dim,\n",
    "    'hidden_dim': 100,\n",
    "    'n_filters': 100,\n",
    "    'filter_sizes': [3,4,5],\n",
    "    'linear_sizes' : [54, 100],\n",
    "    'dropout': 0.5,\n",
    "    \n",
    "}\n",
    "\n",
    "\n",
    "model_path = '../trained_models/cnn/pretrained_embs_jacs'\n",
    "data_path = '../data/json/kfolds/'\n",
    "vocab_kwargs = {\n",
    "    'unk_init': torch.Tensor.normal_\n",
    "}\n",
    "label_field = 'category_id'\n",
    "text_field = 'tokens'\n",
    "other_fields = {'jacs': ('nums', NUMS)}\n",
    "\n",
    "process_text = {\n",
    "    'include_lengths': True,\n",
    "}\n",
    "process_labels = {\n",
    "    \n",
    "}\n",
    "optimizer_kwargs = {\n",
    "    \n",
    "}\n",
    "criterion = nn.CrossEntropyLoss()\n",
    "batch_size = 64\n",
    "n_epochs = 10\n",
    "\n",
    "writer_path = f'../runs/cnn_pretrained_embs_jacs'\n",
    "writer = SummaryWriter(writer_path)\n",
    "\n",
    "\n",
    "best_3, final_3 = tu.cross_val_score(RNN, model_kwargs, model_path,\n",
    "                   None, vocab_kwargs,\n",
    "                   data_path,\n",
    "                   label_field,text_field, other_fields,\n",
    "                   process_text, process_labels,\n",
    "                   Adam, optimizer_kwargs, criterion,\n",
    "                   batch_size, n_epochs, writer, device\n",
    "                  )"
   ]
  },
  {
   "cell_type": "code",
   "execution_count": null,
   "metadata": {},
   "outputs": [],
   "source": [
    "np.mean(best_1), np.mean(best_2), np.mean(best_3)"
   ]
  },
  {
   "cell_type": "code",
   "execution_count": null,
   "metadata": {},
   "outputs": [],
   "source": [
    "np.mean(final_1), np.mean(final_2), np.mean(final_3)"
   ]
  }
 ],
 "metadata": {
  "kernelspec": {
   "display_name": "Python 3",
   "language": "python",
   "name": "python3"
  },
  "language_info": {
   "codemirror_mode": {
    "name": "ipython",
    "version": 3
   },
   "file_extension": ".py",
   "mimetype": "text/x-python",
   "name": "python",
   "nbconvert_exporter": "python",
   "pygments_lexer": "ipython3",
   "version": "3.6.5"
  }
 },
 "nbformat": 4,
 "nbformat_minor": 2
}
