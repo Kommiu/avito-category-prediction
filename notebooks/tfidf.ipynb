{
 "cells": [
  {
   "cell_type": "markdown",
   "metadata": {},
   "source": [
    "В этой тетрадке я сравниваю на кросс-валидации простые классификаторы на tf-idf фичах, без какого-либо файнтюнинга параметров."
   ]
  },
  {
   "cell_type": "code",
   "execution_count": 1,
   "metadata": {},
   "outputs": [],
   "source": [
    "import sys \n",
    "sys.path.insert(0, '../')"
   ]
  },
  {
   "cell_type": "code",
   "execution_count": 2,
   "metadata": {},
   "outputs": [],
   "source": [
    "import pandas as pd\n",
    "import numpy as np\n",
    "\n",
    "from sklearn.feature_extraction.text import TfidfVectorizer\n",
    "from sklearn.pipeline import make_pipeline\n",
    "from sklearn.compose import ColumnTransformer\n",
    "from sklearn.preprocessing import MinMaxScaler\n",
    "\n",
    "from sklearn.svm import SVC\n",
    "from sklearn.linear_model import SGDClassifier\n",
    "from sklearn.linear_model import LogisticRegression\n",
    "from sklearn.svm import LinearSVC\n",
    "from sklearn.kernel_approximation import AdditiveChi2Sampler, RBFSampler\n",
    "\n",
    "\n",
    "from sklearn.metrics import accuracy_score\n",
    "from sklearn.model_selection import cross_val_score\n",
    "from sklearn.model_selection import StratifiedKFold\n",
    "\n",
    "from params import SEED\n",
    "from params import N_SPLITS"
   ]
  },
  {
   "cell_type": "code",
   "execution_count": 3,
   "metadata": {},
   "outputs": [],
   "source": [
    "train = pd.read_json('../data/json/train.json', orient='records', lines=True)\n",
    "#test = pd.read_json('../data/json/test.json', orient='records', lines=True)\n",
    "#valid = pd.read_json('../data/json/valid.json', orient='records', lines=True)"
   ]
  },
  {
   "cell_type": "code",
   "execution_count": 4,
   "metadata": {},
   "outputs": [],
   "source": [
    "# конвертируем чтобы избежать лишних ворнингов \n",
    "train['price'] = train['price'].astype('float')"
   ]
  },
  {
   "cell_type": "code",
   "execution_count": 5,
   "metadata": {},
   "outputs": [
    {
     "data": {
      "text/plain": [
       "54"
      ]
     },
     "execution_count": 5,
     "metadata": {},
     "output_type": "execute_result"
    }
   ],
   "source": [
    "n_cats = len(train['category_id'].unique())\n",
    "n_cats"
   ]
  },
  {
   "cell_type": "markdown",
   "metadata": {},
   "source": [
    "Здесь мы применяем стандартный TfidfVectorizer  к лемматизировнному тексту, и шкалируем числовые фичи"
   ]
  },
  {
   "cell_type": "code",
   "execution_count": 6,
   "metadata": {},
   "outputs": [],
   "source": [
    "column_trans = ColumnTransformer(\n",
    "    [\n",
    "        ('tfidf', TfidfVectorizer(tokenizer=lambda x:x, lowercase=False, ngram_range=(1,3)), 'lemmatized'), \n",
    "        ('scale_jacs', MinMaxScaler(), [x for x in train.columns if 'cat_' in x] + ['price'])\n",
    "    ])\n"
   ]
  },
  {
   "cell_type": "code",
   "execution_count": 7,
   "metadata": {},
   "outputs": [],
   "source": [
    "pipe_lsvc = make_pipeline(column_trans, LinearSVC())\n",
    "scores_lsvc = cross_val_score(pipe_lsvc, train, train['category_id'],\n",
    "                              cv=StratifiedKFold(n_splits=N_SPLITS, random_state=SEED))"
   ]
  },
  {
   "cell_type": "code",
   "execution_count": 8,
   "metadata": {},
   "outputs": [
    {
     "data": {
      "text/plain": [
       "0.892235269447626"
      ]
     },
     "execution_count": 8,
     "metadata": {},
     "output_type": "execute_result"
    }
   ],
   "source": [
    "scores_lsvc.mean()"
   ]
  },
  {
   "cell_type": "code",
   "execution_count": 11,
   "metadata": {},
   "outputs": [],
   "source": [
    "# попробуем тоже самое но без числовых фичей.\n",
    "column_trans_2 = ColumnTransformer(\n",
    "    [\n",
    "        ('tfidf', TfidfVectorizer(tokenizer=lambda x:x, lowercase=False, ngram_range=(1,3)), 'lemmatized'), \n",
    "        #('scaler', MinMaxScaler(), [x for x in train.columns if 'cat_' in x] + ['price'])\n",
    "    ])"
   ]
  },
  {
   "cell_type": "code",
   "execution_count": null,
   "metadata": {},
   "outputs": [],
   "source": [
    "pipe_lsvc_2 = make_pipeline(column_trans_2, LinearSVC())\n",
    "scores_lsvc_2 = cross_val_score(pipe_lsvc_2, train, train['category_id'],\n",
    "                                cv=StratifiedKFold(n_splits=N_SPLITS, random_state=SEED))"
   ]
  },
  {
   "cell_type": "code",
   "execution_count": null,
   "metadata": {},
   "outputs": [
    {
     "data": {
      "text/plain": [
       "0.8923425190815888"
      ]
     },
     "execution_count": 11,
     "metadata": {},
     "output_type": "execute_result"
    }
   ],
   "source": [
    "scores_lsvc_2.mean()"
   ]
  },
  {
   "cell_type": "code",
   "execution_count": null,
   "metadata": {},
   "outputs": [],
   "source": [
    "# Попробуем добавить аппроксимацию отображения фичей, которое делают нелинейные svm с помощью kernel trick"
   ]
  },
  {
   "cell_type": "code",
   "execution_count": 7,
   "metadata": {},
   "outputs": [],
   "source": [
    "pipe_lsvc_kernel = make_pipeline(column_trans, AdditiveChi2Sampler(sample_steps=2), LinearSVC())\n",
    "scores_lsvc_kernel = cross_val_score(pipe_lsvc_kernel, train, train['category_id'],\n",
    "                                     cv=StratifiedKFold(n_splits=N_SPLITS, random_state=SEED))"
   ]
  },
  {
   "cell_type": "code",
   "execution_count": 8,
   "metadata": {},
   "outputs": [
    {
     "data": {
      "text/plain": [
       "0.8892833816595356"
      ]
     },
     "execution_count": 8,
     "metadata": {},
     "output_type": "execute_result"
    }
   ],
   "source": [
    "scores_lsvc_kernel.mean()"
   ]
  },
  {
   "cell_type": "code",
   "execution_count": null,
   "metadata": {},
   "outputs": [],
   "source": []
  },
  {
   "cell_type": "code",
   "execution_count": 12,
   "metadata": {},
   "outputs": [],
   "source": [
    "pipe_lsvc_rbf = make_pipeline(column_trans_2, RBFSampler(), LinearSVC())\n",
    "scores_lsvc_rbf = cross_val_score(pipe_lsvc_rbf, train, train['category_id'],\n",
    "                                  cv=StratifiedKFold(n_splits=N_SPLITS, random_state=SEED),\n",
    "                                  n_jobs=2\n",
    "                                 )"
   ]
  },
  {
   "cell_type": "code",
   "execution_count": 13,
   "metadata": {},
   "outputs": [
    {
     "data": {
      "text/plain": [
       "0.087371975119175"
      ]
     },
     "execution_count": 13,
     "metadata": {},
     "output_type": "execute_result"
    }
   ],
   "source": [
    "scores_lsvc_rbf.mean()"
   ]
  },
  {
   "cell_type": "markdown",
   "metadata": {},
   "source": [
    "Также попробуем классическую логистическую регрессию, и просто оптимизировать hinge-loss(как у линейного svc) стохастическим градиентым спском"
   ]
  },
  {
   "cell_type": "code",
   "execution_count": 14,
   "metadata": {},
   "outputs": [],
   "source": [
    "logreg = LogisticRegression(solver='saga', multi_class='multinomial', n_jobs=2, random_state=SEED)\n",
    "sgd = SGDClassifier( penalty='elasticnet', random_state=SEED, n_jobs=2, tol=1e-3, early_stopping=True)"
   ]
  },
  {
   "cell_type": "code",
   "execution_count": 15,
   "metadata": {},
   "outputs": [],
   "source": [
    "#\n",
    "pipe_logreg = make_pipeline(column_trans, logreg)\n",
    "scores_logreg = cross_val_score(pipe_logreg, train, train['category_id'],\n",
    "                                cv=StratifiedKFold(n_splits=N_SPLITS, random_state=SEED),\n",
    "                                n_jobs=2\n",
    "                               )"
   ]
  },
  {
   "cell_type": "code",
   "execution_count": 16,
   "metadata": {},
   "outputs": [
    {
     "data": {
      "text/plain": [
       "0.8693606226786059"
      ]
     },
     "execution_count": 16,
     "metadata": {},
     "output_type": "execute_result"
    }
   ],
   "source": [
    "scores_logreg.mean()"
   ]
  },
  {
   "cell_type": "code",
   "execution_count": 17,
   "metadata": {},
   "outputs": [],
   "source": [
    "# \n",
    "pipe_sgd = make_pipeline(column_trans, sgd)\n",
    "scores_sgd = cross_val_score(pipe_sgd, train, train['category_id'],\n",
    "                             cv=StratifiedKFold(n_splits=N_SPLITS, random_state=SEED),\n",
    "                             n_jobs=2,\n",
    "                            )"
   ]
  },
  {
   "cell_type": "code",
   "execution_count": 18,
   "metadata": {},
   "outputs": [
    {
     "data": {
      "text/plain": [
       "0.77721113288173"
      ]
     },
     "execution_count": 18,
     "metadata": {},
     "output_type": "execute_result"
    }
   ],
   "source": [
    "scores_sgd.mean()"
   ]
  },
  {
   "cell_type": "code",
   "execution_count": null,
   "metadata": {},
   "outputs": [],
   "source": []
  }
 ],
 "metadata": {
  "kernelspec": {
   "display_name": "Python 3",
   "language": "python",
   "name": "python3"
  },
  "language_info": {
   "codemirror_mode": {
    "name": "ipython",
    "version": 3
   },
   "file_extension": ".py",
   "mimetype": "text/x-python",
   "name": "python",
   "nbconvert_exporter": "python",
   "pygments_lexer": "ipython3",
   "version": "3.6.5"
  }
 },
 "nbformat": 4,
 "nbformat_minor": 2
}
