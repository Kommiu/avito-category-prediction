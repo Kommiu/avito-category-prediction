{
 "cells": [
  {
   "cell_type": "code",
   "execution_count": 1,
   "metadata": {},
   "outputs": [],
   "source": [
    "import sys \n",
    "sys.path.insert(0, '../')"
   ]
  },
  {
   "cell_type": "code",
   "execution_count": 9,
   "metadata": {},
   "outputs": [],
   "source": [
    "import pandas as pd\n",
    "import numpy as np\n",
    "\n",
    "from sklearn.feature_extraction.text import TfidfVectorizer\n",
    "from sklearn.pipeline import make_pipeline\n",
    "from sklearn.compose import ColumnTransformer\n",
    "from sklearn.preprocessing import MinMaxScaler\n",
    "\n",
    "from sklearn.svm import SVC\n",
    "from sklearn.linear_model import SGDClassifier\n",
    "from sklearn.neighbors import KNeighborsClassifier\n",
    "from sklearn.naive_bayes import MultinomialNB\n",
    "\n",
    "\n",
    "from sklearn.metrics import accuracy_score\n",
    "from sklearn.model_selection import cross_val_score\n",
    "from sklearn.model_selection import StratifiedKFold\n",
    "from sklearn.model_selection import RandomizedSearchCV\n",
    "\n",
    "from params import SEED\n",
    "from params import N_SPLITS"
   ]
  },
  {
   "cell_type": "code",
   "execution_count": 3,
   "metadata": {},
   "outputs": [],
   "source": [
    "train = pd.read_json('../data/json/train.json', orient='records', lines=True)\n",
    "#test = pd.read_json('../data/json/test.json', orient='records', lines=True)\n",
    "#valid = pd.read_json('../data/json/valid.json', orient='records', lines=True)"
   ]
  },
  {
   "cell_type": "code",
   "execution_count": 4,
   "metadata": {},
   "outputs": [],
   "source": [
    "# конвертируем чтобы избежать лишних ворнингов \n",
    "train['price'] = train['price'].astype('float')"
   ]
  },
  {
   "cell_type": "code",
   "execution_count": 5,
   "metadata": {},
   "outputs": [
    {
     "data": {
      "text/plain": [
       "54"
      ]
     },
     "execution_count": 5,
     "metadata": {},
     "output_type": "execute_result"
    }
   ],
   "source": [
    "n_cats = len(train['category_id'].unique())\n",
    "n_cats"
   ]
  },
  {
   "cell_type": "code",
   "execution_count": 12,
   "metadata": {},
   "outputs": [],
   "source": [
    "tfidf_jacs_price = ColumnTransformer(\n",
    "    [\n",
    "        ('tfidf', TfidfVectorizer(tokenizer=lambda x:x, lowercase=False, ngram_range=(1,3)), 'tokens'), \n",
    "        ('scale_jacs', MinMaxScaler(), [x for x in train.columns if 'cat_' in x]),\n",
    "        ('scale_price', MinMaxScaler(), ['price']),\n",
    "    ])\n",
    "\n",
    "tfidf_price = ColumnTransformer(\n",
    "    [\n",
    "        ('tfidf', TfidfVectorizer(tokenizer=lambda x:x, lowercase=False, ngram_range=(1,3)), 'tokens'), \n",
    "        ('scale_price', MinMaxScaler(), ['price']),\n",
    "    ])\n",
    "\n",
    "tfidf = ColumnTransformer(\n",
    "    [\n",
    "        ('tfidf', TfidfVectorizer(tokenizer=lambda x:x, lowercase=False, ngram_range=(1,3)), 'tokens'), \n",
    "    ])"
   ]
  },
  {
   "cell_type": "code",
   "execution_count": 13,
   "metadata": {},
   "outputs": [],
   "source": [
    "def test_clf(clf, trans):\n",
    "    pipe = make_pipeline(trans, clf)\n",
    "\n",
    "    scores = cross_val_score(pipe,\n",
    "                             train,\n",
    "                             train['category_id'],\n",
    "                             cv=StratifiedKFold(n_splits=N_SPLITS, random_state=SEED)\n",
    "                            )\n",
    "    return scores.mean(), scores.std()"
   ]
  },
  {
   "cell_type": "code",
   "execution_count": 17,
   "metadata": {},
   "outputs": [
    {
     "name": "stdout",
     "output_type": "stream",
     "text": [
      "logreg with jacs:  (0.8753717167777904, 0.0016602482835245094)\n",
      "logreg without jacs:  (0.8765131919977754, 0.0014912802974167566)\n",
      "logreg with only tf-idf:  (0.8765157510008466, 0.0016146828060361212)\n"
     ]
    }
   ],
   "source": [
    "clf = SGDClassifier(loss='log', alpha=0.000002, tol = 0.0001, n_jobs=2)\n",
    "print('logreg with jacs: ', test_clf(clf, tfidf_jacs_price))\n",
    "print('logreg without jacs: ', test_clf(clf, tfidf_price))\n",
    "print('logreg with only tf-idf: ', test_clf(clf, tfidf))"
   ]
  },
  {
   "cell_type": "code",
   "execution_count": 19,
   "metadata": {},
   "outputs": [
    {
     "name": "stdout",
     "output_type": "stream",
     "text": [
      "linearSVC with jacs:  (0.8859918861895395, 0.0016410106302150124)\n",
      "LinearSVC without jacs:  (0.8861604036460315, 0.0016092815068130654)\n",
      "LinearSVC with only tf-idf:  (0.8860071772649654, 0.0017503243890651162)\n"
     ]
    }
   ],
   "source": [
    "clf = SGDClassifier(loss='hinge', alpha=0.000005, tol = 0.001, n_jobs=6)\n",
    "print('linearSVC with jacs: ', test_clf(clf, tfidf_jacs_price))\n",
    "print('LinearSVC without jacs: ', test_clf(clf, tfidf_price))\n",
    "print('LinearSVC with only tf-idf: ', test_clf(clf, tfidf))"
   ]
  },
  {
   "cell_type": "code",
   "execution_count": null,
   "metadata": {},
   "outputs": [
    {
     "name": "stdout",
     "output_type": "stream",
     "text": [
      "huber with jacs:  (0.8860608125105329, 0.0017626452894630791)\n"
     ]
    }
   ],
   "source": [
    "clf = SGDClassifier(loss='modified_huber', alpha=0.00001, tol = 0.0001,\n",
    "                     n_jobs=6, learning_rate='constant', eta0=0.01)\n",
    "print('huber with jacs: ', test_clf(clf, tfidf_jacs_price))\n",
    "print('huber without jacs: ', test_clf(clf, tfidf_price))\n",
    "print('huber with only tf-idf: ', test_clf(clf, tfidf))"
   ]
  },
  {
   "cell_type": "code",
   "execution_count": null,
   "metadata": {},
   "outputs": [],
   "source": []
  }
 ],
 "metadata": {
  "kernelspec": {
   "display_name": "Python 3",
   "language": "python",
   "name": "python3"
  },
  "language_info": {
   "codemirror_mode": {
    "name": "ipython",
    "version": 3
   },
   "file_extension": ".py",
   "mimetype": "text/x-python",
   "name": "python",
   "nbconvert_exporter": "python",
   "pygments_lexer": "ipython3",
   "version": "3.6.5"
  }
 },
 "nbformat": 4,
 "nbformat_minor": 2
}
