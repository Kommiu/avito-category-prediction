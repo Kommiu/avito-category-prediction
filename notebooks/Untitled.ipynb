{
 "cells": [
  {
   "cell_type": "code",
   "execution_count": 28,
   "metadata": {},
   "outputs": [],
   "source": [
    "import pandas as pd\n",
    "import numpy as np\n",
    "\n",
    "from sklearn.feature_extraction.text import TfidfVectorizer\n",
    "from sklearn.pipeline import Pipeline, FeatureUnion, make_pipeline\n",
    "from sklearn.compose import ColumnTransformer\n",
    "from sklearn.preprocessing import MinMaxScaler\n",
    "\n",
    "from sklearn.svm import SVC\n",
    "from sklearn.model_selection import cross_val_score\n",
    "\n",
    "from sklearn.metrics import accuracy_score\n",
    "from sklearn.model_selection import cross_val_score"
   ]
  },
  {
   "cell_type": "code",
   "execution_count": 39,
   "metadata": {},
   "outputs": [],
   "source": [
    "train = pd.read_json('../data/json/train.json', orient='records', lines=True)\n",
    "test = pd.read_json('../data/json/test.json', orient='records', lines=True)\n",
    "valid = pd.read_json('../data/json/valid.json', orient='records', lines=True)"
   ]
  },
  {
   "cell_type": "code",
   "execution_count": 3,
   "metadata": {},
   "outputs": [
    {
     "data": {
      "text/plain": [
       "54"
      ]
     },
     "execution_count": 3,
     "metadata": {},
     "output_type": "execute_result"
    }
   ],
   "source": [
    "n_cats = len(train['category_id'].unique())\n",
    "n_cats"
   ]
  },
  {
   "cell_type": "code",
   "execution_count": 49,
   "metadata": {},
   "outputs": [
    {
     "data": {
      "text/html": [
       "<div>\n",
       "<style scoped>\n",
       "    .dataframe tbody tr th:only-of-type {\n",
       "        vertical-align: middle;\n",
       "    }\n",
       "\n",
       "    .dataframe tbody tr th {\n",
       "        vertical-align: top;\n",
       "    }\n",
       "\n",
       "    .dataframe thead th {\n",
       "        text-align: right;\n",
       "    }\n",
       "</style>\n",
       "<table border=\"1\" class=\"dataframe\">\n",
       "  <thead>\n",
       "    <tr style=\"text-align: right;\">\n",
       "      <th></th>\n",
       "      <th>cat_0</th>\n",
       "      <th>cat_1</th>\n",
       "      <th>cat_10</th>\n",
       "      <th>cat_11</th>\n",
       "      <th>cat_12</th>\n",
       "      <th>cat_13</th>\n",
       "      <th>cat_14</th>\n",
       "      <th>cat_15</th>\n",
       "      <th>cat_16</th>\n",
       "      <th>cat_17</th>\n",
       "      <th>...</th>\n",
       "      <th>cat_6</th>\n",
       "      <th>cat_7</th>\n",
       "      <th>cat_8</th>\n",
       "      <th>cat_9</th>\n",
       "      <th>category_id</th>\n",
       "      <th>item_id</th>\n",
       "      <th>lemmatized</th>\n",
       "      <th>price</th>\n",
       "      <th>text</th>\n",
       "      <th>tokens</th>\n",
       "    </tr>\n",
       "  </thead>\n",
       "  <tbody>\n",
       "    <tr>\n",
       "      <th>0</th>\n",
       "      <td>0.000000</td>\n",
       "      <td>0.0</td>\n",
       "      <td>0.000000</td>\n",
       "      <td>0.000000</td>\n",
       "      <td>0.0</td>\n",
       "      <td>0.0</td>\n",
       "      <td>0.0</td>\n",
       "      <td>0.0</td>\n",
       "      <td>0.0</td>\n",
       "      <td>0.0</td>\n",
       "      <td>...</td>\n",
       "      <td>0.000000</td>\n",
       "      <td>0.0</td>\n",
       "      <td>0.0</td>\n",
       "      <td>0.000000</td>\n",
       "      <td>42</td>\n",
       "      <td>92389</td>\n",
       "      <td>[ботинок, горнолыжный, женский, продавать, бот...</td>\n",
       "      <td>3500</td>\n",
       "      <td>Ботинки горнолыжные (женские) Продам ботинки д...</td>\n",
       "      <td>[ботинки, горнолыжные, женские, продам, ботинк...</td>\n",
       "    </tr>\n",
       "    <tr>\n",
       "      <th>1</th>\n",
       "      <td>0.000000</td>\n",
       "      <td>0.0</td>\n",
       "      <td>0.000000</td>\n",
       "      <td>0.000000</td>\n",
       "      <td>0.0</td>\n",
       "      <td>0.0</td>\n",
       "      <td>0.0</td>\n",
       "      <td>0.0</td>\n",
       "      <td>0.0</td>\n",
       "      <td>0.0</td>\n",
       "      <td>...</td>\n",
       "      <td>0.000000</td>\n",
       "      <td>0.0</td>\n",
       "      <td>0.0</td>\n",
       "      <td>0.000000</td>\n",
       "      <td>33</td>\n",
       "      <td>81327</td>\n",
       "      <td>[продавать, пальто, продавать, красный, пальто...</td>\n",
       "      <td>3000</td>\n",
       "      <td>Продам пальто Продам красное пальто.Очень крас...</td>\n",
       "      <td>[продам, пальто, продам, красное, пальто, очен...</td>\n",
       "    </tr>\n",
       "    <tr>\n",
       "      <th>2</th>\n",
       "      <td>0.000000</td>\n",
       "      <td>0.0</td>\n",
       "      <td>0.000000</td>\n",
       "      <td>0.000000</td>\n",
       "      <td>0.0</td>\n",
       "      <td>0.0</td>\n",
       "      <td>0.0</td>\n",
       "      <td>0.0</td>\n",
       "      <td>0.0</td>\n",
       "      <td>0.0</td>\n",
       "      <td>...</td>\n",
       "      <td>0.000000</td>\n",
       "      <td>0.0</td>\n",
       "      <td>0.0</td>\n",
       "      <td>0.076923</td>\n",
       "      <td>9</td>\n",
       "      <td>224694</td>\n",
       "      <td>[чехол, для, meizu, m2, mini, продавать, чехол...</td>\n",
       "      <td>250</td>\n",
       "      <td>Чехол для Meizu m2 mini Продам чехол для Meizu...</td>\n",
       "      <td>[чехол, для, meizu, m2, mini, продам, чехол, д...</td>\n",
       "    </tr>\n",
       "    <tr>\n",
       "      <th>3</th>\n",
       "      <td>0.012048</td>\n",
       "      <td>0.0</td>\n",
       "      <td>0.012048</td>\n",
       "      <td>0.012048</td>\n",
       "      <td>0.0</td>\n",
       "      <td>0.0</td>\n",
       "      <td>0.0</td>\n",
       "      <td>0.0</td>\n",
       "      <td>0.0</td>\n",
       "      <td>0.0</td>\n",
       "      <td>...</td>\n",
       "      <td>0.012048</td>\n",
       "      <td>0.0</td>\n",
       "      <td>0.0</td>\n",
       "      <td>0.011765</td>\n",
       "      <td>51</td>\n",
       "      <td>319263</td>\n",
       "      <td>[ирвин, ялом, 3, книга, комплект, книга, компл...</td>\n",
       "      <td>900</td>\n",
       "      <td>Ирвин Ялом - 3 книги комплектом Книги комплект...</td>\n",
       "      <td>[ирвин, ялом, 3, книги, комплектом, книги, ком...</td>\n",
       "    </tr>\n",
       "    <tr>\n",
       "      <th>4</th>\n",
       "      <td>0.000000</td>\n",
       "      <td>0.0</td>\n",
       "      <td>0.000000</td>\n",
       "      <td>0.000000</td>\n",
       "      <td>0.0</td>\n",
       "      <td>0.0</td>\n",
       "      <td>0.0</td>\n",
       "      <td>0.0</td>\n",
       "      <td>0.0</td>\n",
       "      <td>0.0</td>\n",
       "      <td>...</td>\n",
       "      <td>0.000000</td>\n",
       "      <td>0.0</td>\n",
       "      <td>0.0</td>\n",
       "      <td>0.000000</td>\n",
       "      <td>47</td>\n",
       "      <td>251147</td>\n",
       "      <td>[аром, палочка, для, йога, от, 200, до, 500, р...</td>\n",
       "      <td>200</td>\n",
       "      <td>Арома палочки для йоги От 200 до 500 рублей</td>\n",
       "      <td>[арома, палочки, для, йоги, от, 200, до, 500, ...</td>\n",
       "    </tr>\n",
       "  </tbody>\n",
       "</table>\n",
       "<p>5 rows × 60 columns</p>\n",
       "</div>"
      ],
      "text/plain": [
       "      cat_0  cat_1    cat_10    cat_11  cat_12  cat_13  cat_14  cat_15  \\\n",
       "0  0.000000    0.0  0.000000  0.000000     0.0     0.0     0.0     0.0   \n",
       "1  0.000000    0.0  0.000000  0.000000     0.0     0.0     0.0     0.0   \n",
       "2  0.000000    0.0  0.000000  0.000000     0.0     0.0     0.0     0.0   \n",
       "3  0.012048    0.0  0.012048  0.012048     0.0     0.0     0.0     0.0   \n",
       "4  0.000000    0.0  0.000000  0.000000     0.0     0.0     0.0     0.0   \n",
       "\n",
       "   cat_16  cat_17                        ...                          \\\n",
       "0     0.0     0.0                        ...                           \n",
       "1     0.0     0.0                        ...                           \n",
       "2     0.0     0.0                        ...                           \n",
       "3     0.0     0.0                        ...                           \n",
       "4     0.0     0.0                        ...                           \n",
       "\n",
       "      cat_6  cat_7  cat_8     cat_9  category_id  item_id  \\\n",
       "0  0.000000    0.0    0.0  0.000000           42    92389   \n",
       "1  0.000000    0.0    0.0  0.000000           33    81327   \n",
       "2  0.000000    0.0    0.0  0.076923            9   224694   \n",
       "3  0.012048    0.0    0.0  0.011765           51   319263   \n",
       "4  0.000000    0.0    0.0  0.000000           47   251147   \n",
       "\n",
       "                                          lemmatized  price  \\\n",
       "0  [ботинок, горнолыжный, женский, продавать, бот...   3500   \n",
       "1  [продавать, пальто, продавать, красный, пальто...   3000   \n",
       "2  [чехол, для, meizu, m2, mini, продавать, чехол...    250   \n",
       "3  [ирвин, ялом, 3, книга, комплект, книга, компл...    900   \n",
       "4  [аром, палочка, для, йога, от, 200, до, 500, р...    200   \n",
       "\n",
       "                                                text  \\\n",
       "0  Ботинки горнолыжные (женские) Продам ботинки д...   \n",
       "1  Продам пальто Продам красное пальто.Очень крас...   \n",
       "2  Чехол для Meizu m2 mini Продам чехол для Meizu...   \n",
       "3  Ирвин Ялом - 3 книги комплектом Книги комплект...   \n",
       "4        Арома палочки для йоги От 200 до 500 рублей   \n",
       "\n",
       "                                              tokens  \n",
       "0  [ботинки, горнолыжные, женские, продам, ботинк...  \n",
       "1  [продам, пальто, продам, красное, пальто, очен...  \n",
       "2  [чехол, для, meizu, m2, mini, продам, чехол, д...  \n",
       "3  [ирвин, ялом, 3, книги, комплектом, книги, ком...  \n",
       "4  [арома, палочки, для, йоги, от, 200, до, 500, ...  \n",
       "\n",
       "[5 rows x 60 columns]"
      ]
     },
     "execution_count": 49,
     "metadata": {},
     "output_type": "execute_result"
    }
   ],
   "source": [
    "train.head()"
   ]
  },
  {
   "cell_type": "code",
   "execution_count": 55,
   "metadata": {},
   "outputs": [],
   "source": [
    "from sklearn.linear_model import SGDClassifier\n",
    "from sklearn.linear_model import LogisticRegression\n",
    "SEED = 1984"
   ]
  },
  {
   "cell_type": "code",
   "execution_count": 56,
   "metadata": {},
   "outputs": [],
   "source": [
    "logreg = LogisticRegression(solver='saga', multi_class='multinomial', n_jobs=4, random_state=SEED, penalty='l1')"
   ]
  },
  {
   "cell_type": "code",
   "execution_count": 64,
   "metadata": {},
   "outputs": [],
   "source": [
    "sgd = SGDClassifier( penalty='elasticnet', random_state=SEED, n_jobs=4, early_stopping=True)"
   ]
  },
  {
   "cell_type": "code",
   "execution_count": null,
   "metadata": {},
   "outputs": [],
   "source": [
    "tfidf_pipe = make_pipeline([\n",
    "    TfidfVectorizer(tokenizer=lambda x:x, lowercase=False),\n",
    "    MinMaxScaler()\n",
    "])\n"
   ]
  },
  {
   "cell_type": "code",
   "execution_count": 60,
   "metadata": {},
   "outputs": [],
   "source": [
    "\n",
    "column_trans = ColumnTransformer(\n",
    "    [\n",
    "        ('tfidf', TfidfVectorizer(tokenizer=lambda x:x, lowercase=False), 'lemmatized'), \n",
    "        ('scaler', MinMaxScaler(), [x for x in train.columns if 'cat_' in x] + ['price'])\n",
    "    ])"
   ]
  },
  {
   "cell_type": "code",
   "execution_count": 61,
   "metadata": {},
   "outputs": [],
   "source": [
    "pipe = make_pipeline(column_trans, logreg)"
   ]
  },
  {
   "cell_type": "code",
   "execution_count": 63,
   "metadata": {},
   "outputs": [
    {
     "name": "stderr",
     "output_type": "stream",
     "text": [
      "/usr/local/lib/python3.6/site-packages/sklearn/preprocessing/data.py:323: DataConversionWarning: Data with input dtype int64, float64 were all converted to float64 by MinMaxScaler.\n",
      "  return self.partial_fit(X, y)\n",
      "/usr/local/lib/python3.6/site-packages/sklearn/preprocessing/data.py:323: DataConversionWarning: Data with input dtype int64, float64 were all converted to float64 by MinMaxScaler.\n",
      "  return self.partial_fit(X, y)\n",
      "/usr/local/lib/python3.6/site-packages/sklearn/preprocessing/data.py:323: DataConversionWarning: Data with input dtype int64, float64 were all converted to float64 by MinMaxScaler.\n",
      "  return self.partial_fit(X, y)\n",
      "/usr/local/lib/python3.6/site-packages/sklearn/preprocessing/data.py:323: DataConversionWarning: Data with input dtype int64, float64 were all converted to float64 by MinMaxScaler.\n",
      "  return self.partial_fit(X, y)\n",
      "/usr/local/lib/python3.6/site-packages/sklearn/preprocessing/data.py:323: DataConversionWarning: Data with input dtype int64, float64 were all converted to float64 by MinMaxScaler.\n",
      "  return self.partial_fit(X, y)\n"
     ]
    },
    {
     "data": {
      "text/plain": [
       "array([0.87204983, 0.87492021, 0.8716312 , 0.87339897, 0.87133771])"
      ]
     },
     "execution_count": 63,
     "metadata": {},
     "output_type": "execute_result"
    }
   ],
   "source": [
    "cross_val_score(pipe, train, train['category_id'], cv=5)"
   ]
  },
  {
   "cell_type": "code",
   "execution_count": null,
   "metadata": {},
   "outputs": [
    {
     "name": "stderr",
     "output_type": "stream",
     "text": [
      "/usr/local/lib/python3.6/site-packages/sklearn/preprocessing/data.py:323: DataConversionWarning: Data with input dtype int64, float64 were all converted to float64 by MinMaxScaler.\n",
      "  return self.partial_fit(X, y)\n",
      "/usr/local/lib/python3.6/site-packages/sklearn/preprocessing/data.py:323: DataConversionWarning: Data with input dtype int64, float64 were all converted to float64 by MinMaxScaler.\n",
      "  return self.partial_fit(X, y)\n",
      "/usr/local/lib/python3.6/site-packages/sklearn/preprocessing/data.py:323: DataConversionWarning: Data with input dtype int64, float64 were all converted to float64 by MinMaxScaler.\n",
      "  return self.partial_fit(X, y)\n",
      "/usr/local/lib/python3.6/site-packages/sklearn/preprocessing/data.py:323: DataConversionWarning: Data with input dtype int64, float64 were all converted to float64 by MinMaxScaler.\n",
      "  return self.partial_fit(X, y)\n",
      "/usr/local/lib/python3.6/site-packages/sklearn/preprocessing/data.py:323: DataConversionWarning: Data with input dtype int64, float64 were all converted to float64 by MinMaxScaler.\n",
      "  return self.partial_fit(X, y)\n"
     ]
    }
   ],
   "source": [
    "pipe_sgd = make_pipeline(column_trans, logreg)\n",
    "cross_val_score(pipe_sgd, train, train['category_id'], cv=5,)"
   ]
  },
  {
   "cell_type": "code",
   "execution_count": null,
   "metadata": {},
   "outputs": [],
   "source": []
  }
 ],
 "metadata": {
  "kernelspec": {
   "display_name": "Python 3",
   "language": "python",
   "name": "python3"
  },
  "language_info": {
   "codemirror_mode": {
    "name": "ipython",
    "version": 3
   },
   "file_extension": ".py",
   "mimetype": "text/x-python",
   "name": "python",
   "nbconvert_exporter": "python",
   "pygments_lexer": "ipython3",
   "version": "3.6.5"
  }
 },
 "nbformat": 4,
 "nbformat_minor": 2
}
