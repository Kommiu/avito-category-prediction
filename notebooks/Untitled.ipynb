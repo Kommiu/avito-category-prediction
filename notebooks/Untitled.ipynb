{
 "cells": [
  {
   "cell_type": "code",
   "execution_count": 1,
   "metadata": {},
   "outputs": [],
   "source": [
    "import torchtext.data as data\n",
    "import numpy as np\n",
    "import training_utils as tu\n",
    "from models import CNN"
   ]
  },
  {
   "cell_type": "code",
   "execution_count": 2,
   "metadata": {},
   "outputs": [],
   "source": [
    "process_text = {\n",
    "    \n",
    "}\n",
    "\n",
    "process_labels = {\n",
    "    \n",
    "}\n",
    "\n",
    "TEXT = data.Field(**process_text)\n",
    "LABEL = data.LabelField(**process_labels)\n",
    "fields = {'category_id': ('label', LABEL), 'lemmatized': ('text', TEXT)}"
   ]
  },
  {
   "cell_type": "code",
   "execution_count": 3,
   "metadata": {},
   "outputs": [],
   "source": [
    "train_data, valid_data = data.TabularDataset.splits(\n",
    "                                        path = 'data',\n",
    "                                        train = 'train.json',\n",
    "                                        validation = 'valid.json',\n",
    "                                        format = 'json',\n",
    "                                        fields = fields\n",
    ")\n",
    "\n",
    "test_data = data.TabularDataset(\n",
    "                                path = 'data/test.json',\n",
    "                                format = 'json',\n",
    "                                fields = {'lemmatized': ('text', TEXT)}\n",
    ")"
   ]
  },
  {
   "cell_type": "code",
   "execution_count": 4,
   "metadata": {},
   "outputs": [
    {
     "name": "stdout",
     "output_type": "stream",
     "text": [
      "Vocab size: 25002\n",
      "Number of classes: 54\n"
     ]
    }
   ],
   "source": [
    "MAX_VOCAB_SIZE = 25_000\n",
    "\n",
    "TEXT.build_vocab(train_data, max_size = MAX_VOCAB_SIZE)\n",
    "LABEL.build_vocab(train_data)\n",
    "print(f'Vocab size: {len(TEXT.vocab)}')\n",
    "print(f'Number of classes: {len(LABEL.vocab)}')"
   ]
  },
  {
   "cell_type": "code",
   "execution_count": 5,
   "metadata": {},
   "outputs": [],
   "source": [
    "import torch\n",
    "\n",
    "SEED = 1234\n",
    "\n",
    "torch.manual_seed(SEED)\n",
    "torch.backends.cudnn.deterministic = True\n",
    "\n",
    "device = torch.device('cuda' if torch.cuda.is_available() else 'cpu')\n",
    "torch.cuda.set_device(3)"
   ]
  },
  {
   "cell_type": "code",
   "execution_count": 6,
   "metadata": {},
   "outputs": [],
   "source": [
    "BATCH_SIZE = 64\n",
    "\n",
    "train_iterator, valid_iterator = data.BucketIterator.splits(\n",
    "    (train_data, valid_data), \n",
    "    batch_size = BATCH_SIZE,\n",
    "    sort_key = lambda ex: len(ex.text),\n",
    "    sort_within_batch = False,\n",
    "    device = device)"
   ]
  },
  {
   "cell_type": "code",
   "execution_count": 7,
   "metadata": {},
   "outputs": [],
   "source": [
    "INPUT_DIM = len(TEXT.vocab)\n",
    "EMBEDDING_DIM = 100\n",
    "N_FILTERS = 100\n",
    "FILTER_SIZES = [2,3,4]\n",
    "OUTPUT_DIM = len(LABEL.vocab)\n",
    "DROPOUT = 0.5\n",
    "PAD_IDX = TEXT.vocab.stoi[TEXT.pad_token]\n",
    "\n",
    "model = CNN(INPUT_DIM, EMBEDDING_DIM, N_FILTERS, FILTER_SIZES, OUTPUT_DIM, DROPOUT, PAD_IDX)"
   ]
  },
  {
   "cell_type": "code",
   "execution_count": 8,
   "metadata": {},
   "outputs": [],
   "source": [
    "import torch.nn as nn\n",
    "import torch.nn.functional as F\n",
    "import torch.optim as optim\n",
    "\n",
    "optimizer = optim.Adam(model.parameters())\n",
    "criterion = nn.CrossEntropyLoss()\n",
    "\n",
    "model = model.to(device)\n",
    "criterion = criterion.to(device)"
   ]
  },
  {
   "cell_type": "code",
   "execution_count": 11,
   "metadata": {},
   "outputs": [],
   "source": [
    "from tensorboardX import SummaryWriter"
   ]
  },
  {
   "cell_type": "code",
   "execution_count": 9,
   "metadata": {},
   "outputs": [
    {
     "data": {
      "text/plain": [
       "2606754"
      ]
     },
     "execution_count": 9,
     "metadata": {},
     "output_type": "execute_result"
    }
   ],
   "source": [
    "tu.count_parameters(model)"
   ]
  },
  {
   "cell_type": "code",
   "execution_count": 27,
   "metadata": {},
   "outputs": [],
   "source": []
  },
  {
   "cell_type": "code",
   "execution_count": 13,
   "metadata": {},
   "outputs": [],
   "source": [
    "from importlib import reload"
   ]
  },
  {
   "cell_type": "code",
   "execution_count": 35,
   "metadata": {},
   "outputs": [
    {
     "name": "stdout",
     "output_type": "stream",
     "text": [
      "0.5011529434009705 0.8666802832114151 0.5054102764507683 0.858852072223025\n",
      "Epoch: 1 | Epoch Time: 3m 42:s \n",
      "0.49947264530251617 0.8661662581699346 0.48390491558827886 0.8636229300561304\n",
      "Epoch: 2 | Epoch Time: 3m 47:s \n",
      "0.5003589385183029 0.866687091503268 0.4697732941633659 0.8668407442951966\n",
      "Epoch: 3 | Epoch Time: 3m 40:s \n",
      "0.5026650453266365 0.866775599141526 0.45534530311425947 0.8700403071322614\n",
      "Epoch: 4 | Epoch Time: 3m 39:s \n",
      "0.5123473723376402 0.8695261437908497 0.44048510482715886 0.8736511125617565\n",
      "Epoch: 5 | Epoch Time: 3m 16:s \n",
      "0.5183595974144398 0.8664896514291077 0.42890223294184826 0.8762959332554963\n",
      "Epoch: 6 | Epoch Time: 3m 21:s \n",
      "0.5194487119945728 0.8685117102526372 0.41661275775311996 0.8790262759871529\n",
      "Epoch: 7 | Epoch Time: 3m 16:s \n",
      "0.5289916257233986 0.8690767973856209 0.4063213388039057 0.8820648413698821\n",
      "Epoch: 8 | Epoch Time: 3m 21:s \n",
      "0.5380840159721332 0.8697372004487156 0.3972889748073945 0.8842733865724044\n",
      "Epoch: 9 | Epoch Time: 3m 18:s \n",
      "0.5467872943327415 0.8688623366013072 0.3878481418276694 0.886392684100909\n",
      "Epoch: 10 | Epoch Time: 3m 21:s \n"
     ]
    }
   ],
   "source": [
    "reload(tu)\n",
    "tu.train_model(model, train_iterator, valid_iterator,\n",
    "            optimizer, criterion, 'cnn', n_epochs=10, writer=writer)"
   ]
  },
  {
   "cell_type": "code",
   "execution_count": 37,
   "metadata": {},
   "outputs": [
    {
     "data": {
      "text/plain": [
       "(<torchtext.data.dataset.Dataset at 0x7f56f50ce320>,\n",
       " <torchtext.data.dataset.Dataset at 0x7f56f50ce668>)"
      ]
     },
     "execution_count": 37,
     "metadata": {},
     "output_type": "execute_result"
    }
   ],
   "source": [
    "train_data.kf"
   ]
  },
  {
   "cell_type": "code",
   "execution_count": null,
   "metadata": {},
   "outputs": [],
   "source": [
    "writer"
   ]
  },
  {
   "cell_type": "code",
   "execution_count": null,
   "metadata": {},
   "outputs": [],
   "source": []
  }
 ],
 "metadata": {
  "kernelspec": {
   "display_name": "Python 3",
   "language": "python",
   "name": "python3"
  },
  "language_info": {
   "codemirror_mode": {
    "name": "ipython",
    "version": 3
   },
   "file_extension": ".py",
   "mimetype": "text/x-python",
   "name": "python",
   "nbconvert_exporter": "python",
   "pygments_lexer": "ipython3",
   "version": "3.6.5"
  }
 },
 "nbformat": 4,
 "nbformat_minor": 2
}
