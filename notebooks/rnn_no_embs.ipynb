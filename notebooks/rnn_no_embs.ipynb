{
 "cells": [
  {
   "cell_type": "code",
   "execution_count": 1,
   "metadata": {},
   "outputs": [],
   "source": [
    "import numpy as np\n",
    "import pandas as pd\n",
    "\n",
    "import sys\n",
    "sys.path.insert(0,'../')\n",
    "\n",
    "import torch\n",
    "import torch.nn as nn\n",
    "from torch.optim import Adam\n",
    "from torchtext import data\n",
    "from torchtext import vocab\n",
    "from torch.utils.tensorboard import SummaryWriter\n",
    "from pathlib import Path\n",
    "from sklearn.metrics import accuracy_score\n",
    "\n",
    "from params import SEED\n",
    "from models import RNN\n",
    "import training_utils as tu\n"
   ]
  },
  {
   "cell_type": "code",
   "execution_count": 2,
   "metadata": {},
   "outputs": [],
   "source": [
    "train = pd.read_json('../data/json/train.json', orient='records', lines=True)\n",
    "valid = pd.read_json('../data/json/valid.json', orient='records', lines=True)"
   ]
  },
  {
   "cell_type": "code",
   "execution_count": 3,
   "metadata": {},
   "outputs": [],
   "source": [
    "torch.manual_seed(SEED)\n",
    "torch.backends.cudnn.deterministic = True\n",
    "\n",
    "device = torch.device('cuda')\n",
    "torch.cuda.set_device(3)"
   ]
  },
  {
   "cell_type": "code",
   "execution_count": 5,
   "metadata": {},
   "outputs": [],
   "source": [
    "TEXT = data.Field(include_lengths=True)\n",
    "LABEL = data.LabelField()\n",
    "train_fields = {'category_id': ('label', LABEL), 'tokens': ('text', TEXT)}\n",
    "\n",
    "data_path = '../data/json'\n",
    "\n",
    "train_data = data.TabularDataset(\n",
    "    path=Path(data_path, f'train.json'),\n",
    "    format='json',\n",
    "    fields=train_fields,\n",
    ")\n",
    "\n",
    "ID = data.Field(sequential=False, use_vocab=False)\n",
    "test_fields = {'category_id': ('label', LABEL), 'item_id': ('id', ID), 'tokens': ('text', TEXT)}\n",
    "test_data = data.TabularDataset(\n",
    "    path=Path(data_path, f'valid.json'),\n",
    "    format='json',\n",
    "    fields=test_fields,\n",
    ")\n",
    "\n",
    "TEXT.build_vocab(train_data)\n",
    "LABEL.build_vocab(train_data)"
   ]
  },
  {
   "cell_type": "code",
   "execution_count": 7,
   "metadata": {},
   "outputs": [],
   "source": [
    "model_path = '../trained_models/final_valid'\n",
    "n_epochs = 10\n",
    "batch_size = 64 \n",
    "\n",
    "input_dim = len(TEXT.vocab)\n",
    "output_dim = len(LABEL.vocab)\n",
    "embedding_dim = 300\n",
    "pad_idx = TEXT.vocab.stoi[TEXT.pad_token]\n",
    "\n",
    "hidden_dim = 100\n",
    "n_layers = 2\n",
    "bidirectional = True\n",
    "dropout = 0.5\n",
    "\n",
    "\n",
    "model = RNN(input_dim,\n",
    "            output_dim,\n",
    "            embedding_dim,\n",
    "            hidden_dim,\n",
    "            n_layers,\n",
    "            bidirectional,\n",
    "            dropout,\n",
    "            pad_idx)"
   ]
  },
  {
   "cell_type": "code",
   "execution_count": 8,
   "metadata": {},
   "outputs": [],
   "source": [
    "model.embedding.weight.data[pad_idx] = torch.zeros(embedding_dim)"
   ]
  },
  {
   "cell_type": "code",
   "execution_count": 9,
   "metadata": {},
   "outputs": [],
   "source": [
    "train_iterator = data.BucketIterator(train_data,\n",
    "                                     batch_size=batch_size,\n",
    "                                     sort_key=lambda ex:len(ex.text),\n",
    "                                     sort_within_batch=True,\n",
    "                                     device=device\n",
    "                                    )\n",
    "\n",
    "test_iterator = data.BucketIterator(test_data,\n",
    "                                     batch_size=batch_size,\n",
    "                                     sort_key=lambda ex:len(ex.text),\n",
    "                                     sort_within_batch=True,\n",
    "                                     device=device\n",
    "                                    )"
   ]
  },
  {
   "cell_type": "code",
   "execution_count": 10,
   "metadata": {},
   "outputs": [],
   "source": [
    "optimizer = Adam(model.parameters())\n",
    "critertion = nn.CrossEntropyLoss().to(device)\n",
    "model = model.to(device)"
   ]
  },
  {
   "cell_type": "code",
   "execution_count": 13,
   "metadata": {},
   "outputs": [],
   "source": [
    "writer = SummaryWriter('../runs/rnn_noemb_valid')"
   ]
  },
  {
   "cell_type": "code",
   "execution_count": 14,
   "metadata": {},
   "outputs": [],
   "source": [
    "best, final = tu.train_model(model,\n",
    "            train_iterator,\n",
    "            test_iterator,\n",
    "            optimizer,\n",
    "            critertion,\n",
    "            model_path,\n",
    "            n_epochs,\n",
    "            '_',\n",
    "            writer)"
   ]
  },
  {
   "cell_type": "code",
   "execution_count": 15,
   "metadata": {},
   "outputs": [
    {
     "data": {
      "text/plain": [
       "(0.8840209694859249, 0.8840209694859249)"
      ]
     },
     "execution_count": 15,
     "metadata": {},
     "output_type": "execute_result"
    }
   ],
   "source": [
    "best, final"
   ]
  },
  {
   "cell_type": "code",
   "execution_count": 20,
   "metadata": {},
   "outputs": [
    {
     "data": {
      "text/plain": [
       "IncompatibleKeys(missing_keys=[], unexpected_keys=[])"
      ]
     },
     "execution_count": 20,
     "metadata": {},
     "output_type": "execute_result"
    }
   ],
   "source": [
    "model.load_state_dict(torch.load(model_path))"
   ]
  }
 ],
 "metadata": {
  "kernelspec": {
   "display_name": "Python 3",
   "language": "python",
   "name": "python3"
  },
  "language_info": {
   "codemirror_mode": {
    "name": "ipython",
    "version": 3
   },
   "file_extension": ".py",
   "mimetype": "text/x-python",
   "name": "python",
   "nbconvert_exporter": "python",
   "pygments_lexer": "ipython3",
   "version": "3.6.5"
  }
 },
 "nbformat": 4,
 "nbformat_minor": 2
}
