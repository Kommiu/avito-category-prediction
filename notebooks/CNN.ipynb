{
 "cells": [
  {
   "cell_type": "code",
   "execution_count": 25,
   "metadata": {},
   "outputs": [],
   "source": [
    "import sys\n",
    "sys.path.insert(0, '../')"
   ]
  },
  {
   "cell_type": "code",
   "execution_count": 26,
   "metadata": {},
   "outputs": [],
   "source": [
    "import torchtext.data as data\n",
    "import numpy as np\n",
    "import training_utils as tu\n",
    "from torch.utils.tensorboard import SummaryWriter\n",
    "from models import CNN\n",
    "from importlib import reload\n",
    "from pathlib import Path"
   ]
  },
  {
   "cell_type": "code",
   "execution_count": 72,
   "metadata": {},
   "outputs": [],
   "source": [
    "process_text = {\n",
    "    \n",
    "}\n",
    "\n",
    "process_labels = {\n",
    "    \n",
    "}\n",
    "\n",
    "TEXT = data.Field(**process_text)\n",
    "LABEL = data.LabelField(**process_labels)\n",
    "fields = {'category_id': ('label', LABEL), 'lemmatized': ('text', TEXT)}"
   ]
  },
  {
   "cell_type": "code",
   "execution_count": 46,
   "metadata": {},
   "outputs": [],
   "source": [
    "MAX_VOCAB_SIZE = 25_000\n",
    "\n",
    "BATCH_SIZE = 64\n",
    "\n",
    "\n",
    "EMBEDDING_DIM = 100\n",
    "N_FILTERS = 100\n",
    "FILTER_SIZES = [2,3,4]\n",
    "DROPOUT = 0.5\n",
    "\n"
   ]
  },
  {
   "cell_type": "code",
   "execution_count": 73,
   "metadata": {},
   "outputs": [
    {
     "name": "stdout",
     "output_type": "stream",
     "text": [
      "<torchtext.data.field.LabelField object at 0x7f3a4471c240>\n",
      "<torchtext.data.field.Field object at 0x7f3a4471c048>\n"
     ]
    }
   ],
   "source": [
    "for name, field in fields.values():\n",
    "    print(field)"
   ]
  },
  {
   "cell_type": "code",
   "execution_count": null,
   "metadata": {},
   "outputs": [],
   "source": []
  },
  {
   "cell_type": "code",
   "execution_count": 68,
   "metadata": {},
   "outputs": [],
   "source": [
    "fields = (TEXT, LABEL, 1, 2)"
   ]
  },
  {
   "cell_type": "code",
   "execution_count": 71,
   "metadata": {},
   "outputs": [
    {
     "ename": "ValueError",
     "evalue": "too many values to unpack (expected 2)",
     "output_type": "error",
     "traceback": [
      "\u001b[0;31m---------------------------------------------------------------------------\u001b[0m",
      "\u001b[0;31mValueError\u001b[0m                                Traceback (most recent call last)",
      "\u001b[0;32m<ipython-input-71-afcb004e6816>\u001b[0m in \u001b[0;36m<module>\u001b[0;34m\u001b[0m\n\u001b[0;32m----> 1\u001b[0;31m \u001b[0;34m(\u001b[0m\u001b[0mt\u001b[0m\u001b[0;34m,\u001b[0m \u001b[0ml\u001b[0m\u001b[0;34m)\u001b[0m\u001b[0;34m,\u001b[0m \u001b[0mothers\u001b[0m \u001b[0;34m=\u001b[0m \u001b[0mfields\u001b[0m\u001b[0;34m\u001b[0m\u001b[0m\n\u001b[0m",
      "\u001b[0;31mValueError\u001b[0m: too many values to unpack (expected 2)"
     ]
    }
   ],
   "source": [
    "(t, l), others = fields"
   ]
  },
  {
   "cell_type": "code",
   "execution_count": 53,
   "metadata": {},
   "outputs": [],
   "source": [
    "import torch\n",
    "\n",
    "SEED = 1234\n",
    "\n",
    "torch.manual_seed(SEED)\n",
    "torch.backends.cudnn.deterministic = True\n",
    "\n",
    "device = torch.device('cuda' if torch.cuda.is_available() else 'cpu')\n",
    "torch.cuda.set_device(1)"
   ]
  },
  {
   "cell_type": "code",
   "execution_count": 48,
   "metadata": {},
   "outputs": [],
   "source": [
    "import models\n",
    "reload(models)\n",
    "from models import CNN"
   ]
  },
  {
   "cell_type": "code",
   "execution_count": 32,
   "metadata": {},
   "outputs": [],
   "source": [
    "train_data, valid_data = data.TabularDataset.splits(\n",
    "                                        path = '../data/json',\n",
    "                                        train = 'train.json',\n",
    "                                        validation = 'valid.json',\n",
    "                                        format = 'json',\n",
    "                                        fields = fields\n",
    ")\n",
    "\n",
    "test_data = data.TabularDataset(\n",
    "                                path = '../data/json/test.json',\n",
    "                                format = 'json',\n",
    "                                fields = {'lemmatized': ('text', TEXT)}\n",
    ")"
   ]
  },
  {
   "cell_type": "code",
   "execution_count": 33,
   "metadata": {},
   "outputs": [
    {
     "name": "stdout",
     "output_type": "stream",
     "text": [
      "Vocab size: 25002\n",
      "Number of classes: 54\n"
     ]
    }
   ],
   "source": [
    "TEXT.build_vocab(train_data, max_size = MAX_VOCAB_SIZE)\n",
    "LABEL.build_vocab(train_data)\n",
    "print(f'Vocab size: {len(TEXT.vocab)}')\n",
    "print(f'Number of classes: {len(LABEL.vocab)}')"
   ]
  },
  {
   "cell_type": "code",
   "execution_count": 34,
   "metadata": {},
   "outputs": [],
   "source": [
    "train_iterator, valid_iterator = data.BucketIterator.splits(\n",
    "    (train_data, valid_data), \n",
    "    batch_size = BATCH_SIZE,\n",
    "    sort_key = lambda ex: len(ex.text),\n",
    "    sort_within_batch = False,\n",
    "    device = device)"
   ]
  },
  {
   "cell_type": "code",
   "execution_count": 49,
   "metadata": {},
   "outputs": [],
   "source": [
    "INPUT_DIM = len(TEXT.vocab)\n",
    "OUTPUT_DIM = len(LABEL.vocab)\n",
    "PAD_IDX = TEXT.vocab.stoi[TEXT.pad_token]\n",
    "\n",
    "model = CNN(INPUT_DIM, OUTPUT_DIM, EMBEDDING_DIM, N_FILTERS, FILTER_SIZES, DROPOUT, PAD_IDX)"
   ]
  },
  {
   "cell_type": "code",
   "execution_count": 54,
   "metadata": {},
   "outputs": [],
   "source": [
    "optimizer = optim.Adam(model.parameters())\n",
    "criterion = nn.CrossEntropyLoss()\n",
    "\n",
    "model = model.to(device)\n",
    "criterion = criterion.to(device)"
   ]
  },
  {
   "cell_type": "code",
   "execution_count": 51,
   "metadata": {},
   "outputs": [
    {
     "data": {
      "text/plain": [
       "2606754"
      ]
     },
     "execution_count": 51,
     "metadata": {},
     "output_type": "execute_result"
    }
   ],
   "source": [
    "tu.count_parameters(model)"
   ]
  },
  {
   "cell_type": "code",
   "execution_count": 60,
   "metadata": {},
   "outputs": [],
   "source": [
    "writer=SummaryWriter('../runs/cnn')"
   ]
  },
  {
   "cell_type": "code",
   "execution_count": 61,
   "metadata": {},
   "outputs": [
    {
     "name": "stdout",
     "output_type": "stream",
     "text": [
      "0.5746569367247372 0.8680419390108071 0.37117139667499044 0.8915103185720392\n",
      "Epoch: 1 | Epoch Time: 3m 10:s \n",
      "0.5956889365008405 0.8669628267973856 0.3586113110451327 0.8947481842363635\n",
      "Epoch: 2 | Epoch Time: 3m 3:s \n",
      "0.5990369395310291 0.867071759272245 0.35321969801688197 0.8962499062343641\n",
      "Epoch: 3 | Epoch Time: 3m 5:s \n",
      "0.6016504764934284 0.8663398692810458 0.3463630177498273 0.8973064363480082\n",
      "Epoch: 4 | Epoch Time: 3m 0:s \n",
      "0.6155405799815663 0.8664453975905001 0.3403630869057925 0.8993371141114681\n",
      "Epoch: 5 | Epoch Time: 3m 4:s \n",
      "0.6293050361444164 0.8671840958735522 0.33202765581629834 0.9015282869903962\n",
      "Epoch: 6 | Epoch Time: 3m 0:s \n",
      "0.6450433987844126 0.8670547385620915 0.3277121018743151 0.9029804874058739\n",
      "Epoch: 7 | Epoch Time: 3m 3:s \n",
      "0.6509105457565169 0.86683687365133 0.3212897140452978 0.904359765936491\n",
      "Epoch: 8 | Epoch Time: 3m 0:s \n",
      "0.6668744451968985 0.8677866285532908 0.3183537279262537 0.9052203027889179\n",
      "Epoch: 9 | Epoch Time: 3m 3:s \n",
      "0.6863518652500086 0.8643995098039216 0.31225677981636635 0.9067525414688795\n",
      "Epoch: 10 | Epoch Time: 3m 0:s \n",
      "0.6909399323472813 0.8660913671153823 0.31033665021845847 0.9080752657702359\n",
      "Epoch: 11 | Epoch Time: 3m 3:s \n",
      "0.6977716430717337 0.8666190087016112 0.30488558362820584 0.9095227358913593\n",
      "Epoch: 12 | Epoch Time: 3m 3:s \n",
      "0.7168440442733175 0.86597562634867 0.2993440291743703 0.9112849171049826\n",
      "Epoch: 13 | Epoch Time: 3m 4:s \n",
      "0.726183592491278 0.8651722494683235 0.2954749728081628 0.9120354013595731\n",
      "Epoch: 14 | Epoch Time: 3m 4:s \n",
      "0.7343545155873632 0.8668232570676243 0.2939861947732982 0.9129780276594335\n",
      "Epoch: 15 | Epoch Time: 3m 0:s \n",
      "0.7409277057025606 0.8656215958735523 0.28873420254974064 0.9146150863040096\n",
      "Epoch: 16 | Epoch Time: 3m 3:s \n",
      "0.7549414872490113 0.8651960784313726 0.28566174833723473 0.9150463803314387\n",
      "Epoch: 17 | Epoch Time: 3m 3:s \n",
      "0.7703752102878164 0.8651756535947712 0.282017481464769 0.916851720256263\n",
      "Epoch: 18 | Epoch Time: 3m 3:s \n",
      "0.7893639757474459 0.8649101307189543 0.2799171589809289 0.9173059959703069\n",
      "Epoch: 19 | Epoch Time: 3m 3:s \n",
      "0.7936195781077046 0.8640693082918529 0.27679863269543564 0.9181079274007825\n",
      "Epoch: 20 | Epoch Time: 2m 59:s \n",
      "0.8065593886925699 0.8656896786362517 0.2717107079675368 0.9193542972170541\n",
      "Epoch: 21 | Epoch Time: 3m 2:s \n",
      "0.8195388652676461 0.8655909586186502 0.2690000322010124 0.9200640507024144\n",
      "Epoch: 22 | Epoch Time: 3m 1:s \n",
      "0.8407732256061209 0.8651382080480164 0.2651357518058209 0.921511897572818\n",
      "Epoch: 23 | Epoch Time: 3m 1:s \n",
      "0.849882445789971 0.8648216230806962 0.26570662346073887 0.9216061267106239\n",
      "Epoch: 24 | Epoch Time: 3m 1:s \n",
      "0.8666134960486803 0.8651416122134215 0.26254733704751343 0.9227507324034842\n",
      "Epoch: 25 | Epoch Time: 2m 58:s \n"
     ]
    }
   ],
   "source": [
    "reload(tu)\n",
    "tu.train_model(model, train_iterator, valid_iterator,\n",
    "            optimizer, criterion, 'cnn', n_epochs=25, writer=writer)"
   ]
  },
  {
   "cell_type": "code",
   "execution_count": null,
   "metadata": {},
   "outputs": [],
   "source": []
  }
 ],
 "metadata": {
  "kernelspec": {
   "display_name": "Python 3",
   "language": "python",
   "name": "python3"
  },
  "language_info": {
   "codemirror_mode": {
    "name": "ipython",
    "version": 3
   },
   "file_extension": ".py",
   "mimetype": "text/x-python",
   "name": "python",
   "nbconvert_exporter": "python",
   "pygments_lexer": "ipython3",
   "version": "3.6.5"
  }
 },
 "nbformat": 4,
 "nbformat_minor": 2
}
